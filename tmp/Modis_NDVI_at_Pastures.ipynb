{
 "cells": [
  {
   "cell_type": "code",
   "execution_count": 1,
   "metadata": {},
   "outputs": [
    {
     "name": "stdout",
     "output_type": "stream",
     "text": [
      "Populating the interactive namespace from numpy and matplotlib\n"
     ]
    }
   ],
   "source": [
    "%pylab inline"
   ]
  },
  {
   "cell_type": "code",
   "execution_count": 2,
   "metadata": {},
   "outputs": [],
   "source": [
    "import numpy as np\n",
    "from scipy import integrate\n",
    "from scipy import interpolate\n",
    "from scipy.interpolate import interp1d as interp1d\n",
    "from scipy import stats\n",
    "#import matplotlib.pyplot as plt\n",
    "from matplotlib.backends.backend_pdf import PdfPages\n",
    "import pandas as pd\n",
    "import psycopg2\n",
    "from scipy.interpolate import UnivariateSpline\n",
    "from scipy.signal import savgol_filter\n",
    "from joblib import Parallel, delayed\n",
    "import gc\n",
    "from matplotlib.pyplot import cm\n",
    "import itertools\n",
    "from statsmodels.tsa.arima_model import ARIMA\n",
    "from statsmodels.tsa.statespace.sarimax import SARIMAX\n",
    "from scipy import optimize\n",
    "import gc"
   ]
  },
  {
   "cell_type": "markdown",
   "metadata": {},
   "source": [
    "## Functions"
   ]
  },
  {
   "cell_type": "code",
   "execution_count": 3,
   "metadata": {},
   "outputs": [],
   "source": [
    "def delayed_moving_ave(d,return_simple=True):\n",
    "    \n",
    "    #Initialize output dictionary\n",
    "    sos_dma={}\n",
    "    #Rolling means Forward (SOS) and Backwards (EOS)\n",
    "    d.columns = ['d_time','ndvi']\n",
    "    ts = d.sort_values(by='d_time')[['d_time','ndvi']].set_index('d_time')\n",
    "    ts['ndvi_rolling'] = ts.rolling(window=9*14,min_periods=9*4,center=False).mean()\n",
    "    ts['ndvi_rolling_inv'] = ts.sort_values(by='d_time',ascending=False).rolling(window=9*6,min_periods=9*4,center=False).mean().ndvi.values\n",
    "    \n",
    "    #Smooth the TS\n",
    "    ts['doy']=ts.index.dayofyear\n",
    "    ts['ndvi_smoothed'] = savgol_filter(ts.ndvi.values,9*6+1, 2)\n",
    "    \n",
    "    #AVG Range in NDVI for years\n",
    "    ndvi_range = (ts.groupby(by=ts.index.year).max().ndvi_smoothed-ts.groupby(by=ts.index.year).min().ndvi_smoothed).mean()\n",
    "    \n",
    "    #Loop over all years\n",
    "    for y in ts.index.year.unique():\n",
    "        \n",
    "        #SOS Calcs\n",
    "        ts_y = ts[ts.index.year==y].copy()#ts_smn = ts[ts.index.year==y].merge(ts[ts.index.year==y],left_index=True,right_index=True,suffixes=('_rolling','_orig'))\n",
    "        ts_y['ndvi_diff'] = ts_y.ndvi_smoothed-ts_y.ndvi_rolling\n",
    "        ts_y['cross'] = np.sign(ts_y.ndvi_diff.shift(1))!=np.sign(ts_y.ndvi_diff)\n",
    "        ts_y['cross_idx'] = np.cumsum(ts_y.cross)-1\n",
    "        try:\n",
    "            s = ts_y.reset_index().d_time.iloc[np.where(ts_y.cross_idx == 1)[0].min()]\n",
    "        except:\n",
    "            s = np.nan\n",
    "        \n",
    "        #EOS Calcs from June thru Feb\n",
    "        ts_y_inv =  ts[(ts.index>pd.to_datetime(y*1000+180,format='%Y%j')) & (ts.index<pd.to_datetime((y+1)*1000+60,format='%Y%j'))].sort_values(by='d_time',ascending=False).copy()\n",
    "        ts_y_inv['ndvi_diff'] = ts_y_inv.ndvi_smoothed-ts_y_inv.ndvi_rolling_inv\n",
    "        ts_y_inv['cross'] = np.sign(ts_y_inv.ndvi_diff.shift(1))!=np.sign(ts_y_inv.ndvi_diff)\n",
    "        ts_y_inv['cross_idx'] = np.cumsum(ts_y_inv.cross)-1\n",
    "        try:\n",
    "            e = ts_y_inv.reset_index().d_time.iloc[np.where(ts_y_inv.cross_idx == 1)[0].min()]\n",
    "        except:\n",
    "            e=np.nan\n",
    "\n",
    "        #Define date of Max value\n",
    "        max_doy = ts_y.reset_index().d_time.iloc[np.where(ts_y.ndvi_smoothed.max()==ts_y.ndvi_smoothed)[0].max()]\n",
    "        \n",
    "        \n",
    "        #Check if DMA is between 5% and 20% of yearly amplitude - if not adjust\n",
    "        ts_th = ts[(ts.index >= pd.to_datetime((y*1000)+1,format='%Y%j')) & (ts.index <= max_doy)].copy()\n",
    "        ts_inv_th = ts[(ts.index >= max_doy) & (ts.index <= pd.to_datetime(((y+1)*1000)+60,format='%Y%j'))].copy()\n",
    "        \n",
    "        #ndvi and date of lower threshold for EOS\n",
    "        ndvi_thresh_low_inv = (ndvi_range*.075)+ts_inv_th.ndvi_smoothed.min()\n",
    "        #ndvi_thresh_low_inv = ((ts_inv_th.ndvi_smoothed.max()-ts_inv_th.ndvi_smoothed.min())*.05)+ts_inv_th.ndvi_smoothed.min()\n",
    "        ts_y_inv['ndvi_diff_thresh_low'] = ts_y_inv.ndvi_smoothed-ndvi_thresh_low_inv\n",
    "        ts_y_inv['cross_thresh_low'] = np.sign(ts_y_inv.ndvi_diff_thresh_low.shift(1))!=np.sign(ts_y_inv.ndvi_diff_thresh_low)\n",
    "        ts_y_inv.loc[pd.isnull(ts_y_inv.ndvi_diff_thresh_low),'cross_thresh_low']=0\n",
    "        ts_y_inv['cross_idx_thresh_low'] = np.cumsum(ts_y_inv.cross_thresh_low)-1\n",
    "        ndvi_thresh_low_date_inv = ts_y_inv[(ts_y_inv.cross_idx_thresh_low == 1)&(ts_y_inv.index>max_doy)&pd.notnull(ts_y_inv.ndvi_smoothed)].reset_index().d_time.max()\n",
    "        \n",
    "        #ndvi and date of lower threshold for SOS\n",
    "        ndvi_thresh_low = (ndvi_range*.075)+ts_th.ndvi_smoothed.min()\n",
    "        #ndvi_thresh_low = ((ts_th.ndvi_smoothed.max()-ts_th.ndvi_smoothed.min())*.05)+ts_th.ndvi_smoothed.min()\n",
    "        ts_y['ndvi_diff_thresh_low'] = ts_y.ndvi_smoothed-ndvi_thresh_low\n",
    "        ts_y['cross_thresh_low'] = np.sign(ts_y.ndvi_diff_thresh_low.shift(1))!=np.sign(ts_y.ndvi_diff_thresh_low)\n",
    "        ts_y.loc[pd.isnull(ts_y.ndvi_diff_thresh_low),'cross_thresh_low']=0\n",
    "        #ts_y.loc[pd.isnull(ts_y.cross_idx_thresh_low),'cross_idx_thresh_low']=0\n",
    "        ts_y['cross_idx_thresh_low'] = np.cumsum(ts_y.cross_thresh_low)-1\n",
    "        ndvi_thresh_low_date = ts_y[(ts_y.cross_idx_thresh_low == 1)&(ts_y.index<max_doy)&pd.notnull(ts_y.ndvi_smoothed)].reset_index().d_time.min()\n",
    "        \n",
    "        #ndvi and date of upper threshold for EOS\n",
    "        ndvi_thresh_high_inv = (ndvi_range*.2)+ts_inv_th.ndvi_smoothed.min()\n",
    "        #ndvi_thresh_high_inv = ((ts_inv_th.ndvi_smoothed.max()-ts_inv_th.ndvi_smoothed.min())*.2)+ts_inv_th.ndvi_smoothed.min()\n",
    "        ts_y_inv['ndvi_diff_thresh_high'] = ts_y_inv.ndvi_smoothed-ndvi_thresh_high_inv\n",
    "        ts_y_inv['cross_thresh_high'] = np.sign(ts_y_inv.ndvi_diff_thresh_high.shift(1))!=np.sign(ts_y_inv.ndvi_diff_thresh_high)\n",
    "        ts_y_inv.loc[pd.isnull(ts_y_inv.ndvi_diff_thresh_high),'cross_thresh_high']=0\n",
    "        ts_y_inv['cross_idx_thresh_high'] = np.cumsum(ts_y_inv.cross_thresh_high)-1\n",
    "        ndvi_thresh_high_date_inv = ts_y_inv[(ts_y_inv.cross_idx_thresh_high == 1)&(ts_y_inv.index>max_doy)&pd.notnull(ts_y_inv.ndvi_smoothed)].reset_index().d_time.max()\n",
    "        \n",
    "        #ndvi and date of upper threshold for SOS\n",
    "        ndvi_thresh_high = (ndvi_range*.2)+ts_th.ndvi_smoothed.min()\n",
    "        #ndvi_thresh_high = ((ts_th.ndvi_smoothed.max()-ts_th.ndvi_smoothed.min())*.2)+ts_th.ndvi_smoothed.min()\n",
    "        ts_y['ndvi_diff_thresh_high'] = ts_y.ndvi_smoothed-ndvi_thresh_high\n",
    "        ts_y['cross_thresh_high'] = np.sign(ts_y.ndvi_diff_thresh_high.shift(1))!=np.sign(ts_y.ndvi_diff_thresh_high)\n",
    "        ts_y.loc[pd.isnull(ts_y.ndvi_diff_thresh_high),'cross_thresh_high']=0\n",
    "        ts_y['cross_idx_thresh_high'] = np.cumsum(ts_y.cross_thresh_high)-1\n",
    "        ndvi_thresh_high_date = ts_y[(ts_y.cross_idx_thresh_high == 1)&(ts_y.index>max_doy)&pd.notnull(ts_y.ndvi_smoothed)].reset_index().d_time.min()\n",
    "\n",
    "        \n",
    "        #Values at 15% range if no solution for dma\n",
    "        #SOS\n",
    "        ndvi_thresh_s = (ndvi_range*.15)+ts_th.ndvi_smoothed.min()\n",
    "        ts_y['ndvi_diff_thresh_s'] = ts_y.ndvi_smoothed-ndvi_thresh_s\n",
    "        ts_y['cross_thresh_s'] = np.sign(ts_y.ndvi_diff_thresh_s.shift(1))!=np.sign(ts_y.ndvi_diff_thresh_s)\n",
    "        ts_y.loc[pd.isnull(ts_y.ndvi_diff_thresh_s),'cross_thresh_s']=0\n",
    "        ts_y['cross_idx_thresh_s'] = np.cumsum(ts_y.cross_thresh_s)-1\n",
    "        ndvi_thresh_s_date = ts_y[(ts_y.cross_idx_thresh_s == 1)&(ts_y.index<max_doy)&pd.notnull(ts_y.ndvi_smoothed)].reset_index().d_time.min()\n",
    "        \n",
    "        #EOS\n",
    "        ndvi_thresh_e_inv = (ndvi_range*.15)+ts_inv_th.ndvi_smoothed.min()\n",
    "        ts_y_inv['ndvi_diff_thresh_e'] = ts_y_inv.ndvi_smoothed-ndvi_thresh_e_inv\n",
    "        ts_y_inv['cross_thresh_e'] = np.sign(ts_y_inv.ndvi_diff_thresh_e.shift(1))!=np.sign(ts_y_inv.ndvi_diff_thresh_e)\n",
    "        ts_y_inv.loc[pd.isnull(ts_y_inv.ndvi_diff_thresh_e),'cross_thresh_e']=0\n",
    "        ts_y_inv['cross_idx_thresh_e'] = np.cumsum(ts_y_inv.cross_thresh_e)-1\n",
    "        ndvi_thresh_e_date_inv = ts_y_inv[(ts_y_inv.cross_idx_thresh_e == 1)&(ts_y_inv.index>max_doy)&pd.notnull(ts_y_inv.ndvi_smoothed)].reset_index().d_time.max()\n",
    "        \n",
    "        \n",
    "        if pd.isnull(s):\n",
    "            s = ndvi_thresh_s_date\n",
    "        else:\n",
    "            if s < ndvi_thresh_low_date:\n",
    "            #if ts_y.ndvi_smoothed.iloc[np.where(ts_y.cross_idx == 1)[0].min()] < ndvi_thresh_low and ts_y.reset_index().d_time.iloc[np.where(ts_y.cross_idx == 1)[0].min()] < ndvi_thresh_low_date:\n",
    "                try:\n",
    "                    s2 = ts_y[(ts_y.ndvi_smoothed>=ndvi_thresh_low)&(ts_y.index<max_doy) & (ts_y.index>=ndvi_thresh_low_date) & (ts_y.index<=ndvi_thresh_high_date)].reset_index().d_time.min()\n",
    "                    #s2=ts_y.reset_index().d_time.iloc[np.where((ts_y.ndvi_smoothed>ndvi_thresh_low)&(ts_y<max_doy).ndvi_smoothed)[0].min()]\n",
    "#                     print('Redoing SOS for year '+str(y))\n",
    "                except:\n",
    "#                     print('Failed SOS')\n",
    "                    s2=np.nan\n",
    "                    None\n",
    "            elif s > ndvi_thresh_high_date:\n",
    "            #elif ts_y.ndvi_smoothed.iloc[np.where(ts_y.cross_idx == 1)[0].min()] > ndvi_thresh_high and ts_y.reset_index().d_time.iloc[np.where(ts_y.cross_idx == 1)[0].min()] > ndvi_thresh_high_date:\n",
    "                try:\n",
    "                    s2 = ts_y[(ts_y.ndvi_smoothed>=ndvi_thresh_high)&(ts_y.index<max_doy) & (ts_y.index>=ndvi_thresh_low_date) & (ts_y.index<=ndvi_thresh_high_date)].reset_index().d_time.max()\n",
    "#                     print('Redoing SOS for year '+str(y))\n",
    "                except:\n",
    "#                     print('Failed SOS')\n",
    "                    s2=np.nan\n",
    "                    None\n",
    "            else:\n",
    "                s2=np.nan\n",
    "        if pd.isnull(e):\n",
    "            e = ndvi_thresh_e_date_inv\n",
    "        else:\n",
    "            if e > ndvi_thresh_low_date_inv:\n",
    "            #if ts_y_inv.ndvi_smoothed.iloc[np.where(ts_y_inv.cross_idx == 1)[0].min()] < ndvi_thresh_low_inv and ts_y_inv.reset_index().d_time.iloc[np.where(ts_y_inv.cross_idx == 1)[0].min()] > ndvi_thresh_low_date_inv:\n",
    "                try:\n",
    "                    e2=ts_y_inv[(ts_y_inv.ndvi_smoothed>=ndvi_thresh_low_inv)&(ts_y_inv.index>=max_doy) & (ts_y_inv.index<=ndvi_thresh_low_date_inv) & (ts_y_inv.index>=ndvi_thresh_high_date_inv)].reset_index().d_time.max()\n",
    "#                     print('Redoing EOS for year '+str(y))\n",
    "                except:\n",
    "#                     print('Failed EOS')\n",
    "                    e2=np.nan\n",
    "                    None\n",
    "\n",
    "            elif e < ndvi_thresh_high_date_inv:\n",
    "            #elif ts_y_inv.ndvi_smoothed.iloc[np.where(ts_y_inv.cross_idx == 1)[0].min()] > ndvi_thresh_high_inv and ts_y_inv.reset_index().d_time.iloc[np.where(ts_y_inv.cross_idx == 1)[0].max()] < ndvi_thresh_high_date_inv:\n",
    "                try:\n",
    "                    e2=ts_y_inv[(ts_y_inv.ndvi_smoothed<ndvi_thresh_high_inv)&(ts_y_inv.index>=max_doy) & (ts_y_inv.index<=ndvi_thresh_low_date_inv) & (ts_y_inv.index>=ndvi_thresh_high_date_inv)].reset_index().d_time.min()\n",
    "#                     print('Redoing EOS for year '+str(y))\n",
    "                except:\n",
    "#                     print('Failed EOS')\n",
    "                    e2=np.nan\n",
    "                    None\n",
    "            else:\n",
    "                e2=np.nan\n",
    "            \n",
    "    ### Collect the data in dictionary\n",
    "        if return_simple:\n",
    "            if pd.notnull(e2):\n",
    "                e_final=e2\n",
    "            else:\n",
    "                e_final=e\n",
    "            if pd.notnull(s2):\n",
    "                s_final=s2\n",
    "            else:\n",
    "                s_final=s\n",
    "            sos_dma[y]={'sos':s,'eos':e}\n",
    "        else:\n",
    "            sos_dma[y]={'sos':[s,s2],'eos':[e,e2],'thresh_l':ndvi_thresh_low,'thresh_h':ndvi_thresh_high,'thresh_l_inv':ndvi_thresh_low_inv,'thresh_h_inv':ndvi_thresh_high_inv}\n",
    "    if return_simple==False:\n",
    "        sos_dma['all']={'eos_ts':ts['ndvi_rolling_inv'],'sos_ts':ts['ndvi_rolling'],'sm_ts':ts['ndvi_smoothed']}\n",
    "    return(sos_dma)"
   ]
  },
  {
   "cell_type": "code",
   "execution_count": null,
   "metadata": {},
   "outputs": [],
   "source": []
  },
  {
   "cell_type": "code",
   "execution_count": 208,
   "metadata": {},
   "outputs": [],
   "source": [
    "def int_ndvi(ts_all,var,p):\n",
    "    df_int = pd.DataFrame()\n",
    "    ts_all = ts_all.rename(columns={'pasture_'+str.upper(var):var})\n",
    "    ndvi_min_ts = ts_all.reset_index()[ts_all.reset_index().m_date.dt.dayofyear<=30][var]\n",
    "    if var == 'ndvi':\n",
    "        ndvi_min =ndvi_min_ts[ndvi_min_ts<1900.].median()/10000.\n",
    "    elif var == 'apar':\n",
    "        ndvi_min =ndvi_min_ts[ndvi_min_ts<.2].median()\n",
    "    else:\n",
    "        print('ERROR ERROR Wrong Var')\n",
    "    \n",
    "    \n",
    "    im = plt.hist(ts_all.reset_index()[ts_all.reset_index().m_date.dt.dayofyear<=30][var])[1]\n",
    "    \n",
    "    if var=='ndvi':\n",
    "        plt.axvline(x=1900., color='k', linestyle='--')\n",
    "        plt.axvline(x=ndvi_min*10000., color='r', linestyle='--')\n",
    "    if var=='apar':\n",
    "        plt.axvline(x=.2, color='k', linestyle='--')\n",
    "        plt.axvline(x=ndvi_min, color='r', linestyle='--')\n",
    "    plt.savefig(var+'_'+p+'_MODIS_minvals_hist.png')\n",
    "    plt.clf()\n",
    "    \n",
    "    i=-1\n",
    "    for y in ts_all.index.year.unique():\n",
    "\n",
    "        i=i+1\n",
    "        #if ts_all[ts_all.index.year==y].EOS.dt.year.unique()[0] != y:\n",
    "        #    ts = ts_all[(ts_all.index>=pd.to_datetime(y*1000+1,format='%Y%j')) & (ts_all.index<=ts_all[ts_all.index.year==y].EOS.unique()[0])].copy()\n",
    "        #else:\n",
    "        #    ts = ts_all[ts_all.index.year==y].copy()\n",
    "        \n",
    "        #### integration Period (Inclusive) ####\n",
    "        sos = pd.to_datetime('3/1/'+str(y))\n",
    "        eos = pd.to_datetime('1/1/'+str(y+1))\n",
    "        \n",
    "        ts = ts_all[(ts_all.index>=sos) & (ts_all.index<=eos)].copy()\n",
    "\n",
    "        ts.reset_index(inplace=True)\n",
    "        ts = ts.sort_values(by='m_date')\n",
    "        ts = ts[pd.notnull(ts[var])].copy()\n",
    "        \n",
    "        if var == 'ndvi':\n",
    "            ts[var]=ts[var]/10000.\n",
    "        #sos = ts[ts.m_date.dt.year==y].SOS.dt.dayofyear.unique().astype(int)[0]\n",
    "        #eos= ts[ts.m_date.dt.year==y].EOS.dt.dayofyear.unique().astype(int)[0]\n",
    "\n",
    "        #s_date_diff = 0\n",
    "        #if sos < s_date:\n",
    "        #    ts['SOS']=ts.m_date.min()\n",
    "        #    s_date_diff = s_date - sos\n",
    "        #    sos=s_date\n",
    "        #num_days = (ts[ts.m_date.dt.year==y].EOS.unique() - ts[ts.m_date.dt.year==y].SOS.unique()).astype('timedelta64[D]')[0].astype(int)#-s_date_diff\n",
    "        #num_days = eos.dayofyear-sos.dayofyear\n",
    "        #ndvi_min = ts[ts.m_date.dt.dayofyear<=90][var].mean()\n",
    "        ts[var+'_rel'] = ts[var]-ndvi_min\n",
    "        \n",
    "        ts.loc[ts[var+'_rel']<0,var+'_rel']=0\n",
    "        #tot_days = np.arange(num_days+1,dtype=float)+1\n",
    "        if np.max(np.diff(ts.m_date.dt.dayofyear.values))>1:\n",
    "            error = 1+'o'\n",
    "        x_vals = ts.m_date.dt.dayofyear.values\n",
    "        x_vals[-1]=x_vals[-2]+1\n",
    "        ndvi_i_vals = integrate.cumtrapz(x=x_vals,y=ts[(ts.m_date>=sos)&(ts.m_date<=eos)][var+'_rel'].values)\n",
    "\n",
    "        #if ts[ts.m_date.dt.year==y].EOS.dt.year.unique() != y:\n",
    "        #    end_days = 0+1\n",
    "        #    tot_days = np.concatenate([np.arange(ts.m_date.dt.dayofyear.max()-s_date+1,dtype=int)+s_date,np.arange(eos)+1])\n",
    "        #else:\n",
    "        #    end_days = ts.m_date.dt.dayofyear.max()-eos+1\n",
    "        #    tot_days = np.arange(ts.m_date.dt.dayofyear.max()-s_date+1,dtype=int)+s_date\n",
    "        #df_t = pd.DataFrame({'doy':tot_days,'ndvi_i':np.concatenate((np.zeros(sos.dayofyear-s_date),ndvi_i_vals,np.ones(end_days)*ndvi_i_vals[-1]))})\n",
    "\n",
    "        df_t = pd.DataFrame({'doy':ts.m_date.dt.dayofyear.values[0:-1],'ndvi_i':ndvi_i_vals})\n",
    "        df_t.rename(columns={'ndvi_i':var+'_i'})\n",
    "        df_t['m_date'] = ts[pd.notnull(ts[var])].m_date.values[0:-1]\n",
    "        df_int = df_int.append(df_t)\n",
    "    \n",
    "    return(df_int.groupby(by=['m_date','doy']).sum())    "
   ]
  },
  {
   "cell_type": "markdown",
   "metadata": {},
   "source": [
    "## Query Data"
   ]
  },
  {
   "cell_type": "code",
   "execution_count": 5,
   "metadata": {},
   "outputs": [],
   "source": [
    "parallelize = True\n",
    "df_all = {}\n",
    "df = pd.DataFrame()\n",
    "#conn  = psycopg2.connect(\"host='localhost' dbname='cper'\")\n",
    "savgo  = False\n",
    "raw = True\n",
    "all_dat = False\n",
    "\n",
    "analysis_yrs=[2001,2002,2003,2004,2005,2006,2007,2008,2009,2010,2011,2012,2013,2014,2015,2016,2017,2018]\n",
    "#analysis_yrs=[2014]\n",
    "args = []\n",
    "for e in analysis_yrs:\n",
    "    if all_dat:\n",
    "        args.append(['mod'+str(e)+'doy_ndvi_cper_04qa','doy'])\n",
    "    if savgo:\n",
    "        args.append(['mod'+str(e)+'doy_ndvi_savgo_cper_04qa','savgo'])\n",
    "    if raw:\n",
    "        args.append(['mod'+str(e)+'doy_ndvi_raw_cper_04qa','raw'])\n",
    "def qry_dat(args):\n",
    "    #rad = '100'\n",
    "    #conn = psycopg2.connect(\"host='localhost' dbname='cper'\")\n",
    "    yr = args[0][3:7]\n",
    "    rs_table = args[0]\n",
    "    typ = args[1]\n",
    "    conn  = psycopg2.connect(\"host='localhost' dbname='cper' port='5434' password='Climber9'\")\n",
    "    sql = '''SELECT filename,doy,val as ndvi,past_name_,x,y,yr,ST_AREA(ST_INTERSECTION(past_geom,geom))/ST_Area(geom) as pix_overlap,ST_AREA(ST_INTERSECTION(past_geom,geom))/ST_Area(past_geom) as perc_pasture FROM (SELECT filename, band as doy,(ST_PixelAsPolygons(ST_Band(rast,band))).*,'''+yr+''' as yr FROM '''+rs_table+''', generate_series(1,365) As band)R,(SELECT ST_Transform(wkb_geometry,96842) as past_geom,past_name_ FROM cper_pastures_2017) as p WHERE ST_Intersects(past_geom,geom);'''\n",
    "    #OLDER Query\n",
    "    #sql = '''SELECT band as doy,b.past_name_, (ST_SUMMARYStats(ST_CLIP(ST_SETVALUE(m.rast,band,ST_TRANSFORM(e.geom,96842),(ST_BANDMETADATA(m.rast,band)).nodatavalue),ST_TRANSFORM(b.geom,96842)),band)).* as rast FROM '''+rs_table+''' as m,ltgi_exclude as e,generate_series(1,365) As band ,pasture_bound2016 as b WHERE past_name_ in ('15E','23W','23E') ORDER BY past_name_,doy;'''\n",
    "    df = pd.read_sql(sql,conn)\n",
    "    conn.close()\n",
    "    return({args[0]:df})\n",
    "\n",
    "if parallelize:\n",
    "    df_all = Parallel(n_jobs=8, verbose=0, backend=\"multiprocessing\")(map(delayed(qry_dat), args))\n",
    "    for i in range(len(df_all)):\n",
    "        k = list(df_all[i].keys())[0]\n",
    "        df = df.append(df_all[i][k])\n",
    "else:\n",
    "    for a in args:\n",
    "        print('Querying Year '+a[3:7])\n",
    "        d = qry_dat(a)\n",
    "        df = df.append(d[a])\n",
    "df = df[df.pix_overlap>.01]"
   ]
  },
  {
   "cell_type": "markdown",
   "metadata": {},
   "source": [
    "## Export NDVI observations"
   ]
  },
  {
   "cell_type": "code",
   "execution_count": 6,
   "metadata": {},
   "outputs": [],
   "source": [
    "df_raw = pd.DataFrame()\n",
    "df_interp = pd.DataFrame()\n",
    "for p in df.past_name_.unique():\n",
    "    df_temp = df[df.past_name_== p].copy()\n",
    "    pix_dict = {i+1:v for i,v in enumerate(df_temp[['x','y']].groupby(by=['x','y']).count().reset_index().values)}\n",
    "    df_temp['pix_id'] = -9\n",
    "    for i in pix_dict:\n",
    "        x = pix_dict[i][0]\n",
    "        y = pix_dict[i][1]\n",
    "        df_temp.loc[(df_temp.x==x) & (df_temp.y==y),'pix_id']=int(i)\n",
    "    df_raw = df_raw.append(df_temp.pivot_table(index=['yr','doy','filename','past_name_'],columns='pix_id',values=['ndvi','pix_overlap','perc_pasture']).groupby(axis=1,level=['pix_id',0]).mean())\n",
    "    del(df_temp)\n",
    "    gc.collect()\n",
    "df_raw.sort_values(by=['past_name_','yr','doy']).to_excel('CPER_MODIS_Pasture_Observed_NDVI_V2.xlsx')"
   ]
  },
  {
   "cell_type": "markdown",
   "metadata": {},
   "source": [
    "## Compute Just NDVI"
   ]
  },
  {
   "cell_type": "code",
   "execution_count": null,
   "metadata": {},
   "outputs": [],
   "source": [
    "# #df_interp = pd.DataFrame()\n",
    "# for p in df_raw.reset_index().past_name_.unique()[0:1]:\n",
    "#     print(p)\n",
    "#     df_temp2 = df_raw.reset_index()[df_raw.reset_index().past_name_== p].copy()\n",
    "#     df_temp2.dropna(axis=1,how='all',inplace=True)\n",
    "#     df_temp2 = df_temp2.reset_index()\n",
    "#     df_temp2['m_date'] = pd.to_datetime(df_temp2.yr*1000+df_temp2.doy,format='%Y%j')\n",
    "#     df_temp2.sort_values(by='m_date',inplace=True)\n",
    "#     df_temp2.set_index('m_date',inplace=True)\n",
    "#     g_columns=[]\n",
    "#     for x in df_temp2.columns.levels[0]:\n",
    "#         if df_temp2[x].size > 0:\n",
    "#             g_columns.append(x)\n",
    "# #     df_temp2=df_temp2[g_columns].copy()\n",
    "    \n",
    "    \n",
    "#     df_interp1 = pd.DataFrame()\n",
    "#     df_interp1 = df_temp2.resample('D').interpolate()\n",
    "    \n",
    "    \n",
    "#     df_interp1['past_name_']=p\n",
    "    \n",
    "\n",
    "\n",
    "#     for x in g_columns:\n",
    "#         if type(x)==int:\n",
    "#             df_interp1.loc[:,(x,'eff_ndvi')] = df_interp1[x].ndvi*df_interp1[x].perc_pasture\n",
    "    \n",
    "#     df_interp1 = df_interp1.reset_index().drop(columns=['filename','index']).set_index(['m_date','yr','doy','past_name_']).groupby(axis=1,level=['pix_id',1]).mean()\n",
    "    \n",
    "#     df_past_ndvi_temp = pd.DataFrame(df_interp1.swaplevel(axis=1).eff_ndvi.sum(axis=1)[df_interp1.swaplevel(axis=1).eff_ndvi.count(axis=1)==pd.notnull(df_interp1.swaplevel(axis=1).eff_ndvi).sum(axis=1).max()],columns=['pasture_NDVI'])\n",
    "#     d = {0:df_past_ndvi_temp}\n",
    "#     df_past_ndvi = pd.concat(d,axis=1)\n",
    "    \n",
    "    \n",
    "\n",
    "#     df_f = df_interp1.merge(df_past_ndvi,how='left',left_index=True,right_index=True).sort_values(axis=0,by=['past_name_','yr','doy']).sort_values(axis=1,by='pix_id').reset_index()\n",
    "#     pheno_info = pd.DataFrame(delayed_moving_ave(df_f.reset_index().set_index('m_date')[0,'pasture_NDVI'].reset_index())).T\n",
    "#     pheno_info.columns = pd.MultiIndex.from_tuples([(['Pasture','EOS']),(['Pasture','SOS'])])\n",
    "#     df_f2 = df_f.merge(pheno_info,how='left',left_on=df_f.m_date.dt.year,right_on=pheno_info.index)\n",
    "\n",
    "#     d_t = df_f2.reset_index().set_index('m_date')[[0,'Pasture']]\n",
    "#     d_t.columns = d_t.columns.droplevel()\n",
    "#     df_int = int_ndvi(d_t).reset_index()\n",
    "#     df_int.columns = pd.MultiIndex.from_tuples([(['m_date','']),(['doy','']),(['Pasture','NDVI_I'])])\n",
    "#     df_f3 = df_f2.merge(df_int,how='left',left_on='m_date',right_on='m_date')\n",
    "    \n",
    "#     df_f3.to_excel(p+'_MODIS_Pasture_Interpolated_NDVI_V2.xlsx')\n",
    "#     del(df_interp1)\n",
    "#     del(df_temp2)\n",
    "#     del(df_f)\n",
    "#     del(pheno_info)\n",
    "#     del(df_f2)\n",
    "#     del(df_f3)\n",
    "#     del(df_int)\n",
    "#     gc.collect()\n",
    "\n",
    "# # df_interp['m_date'] = pd.to_datetime(df_interp.yr*1000+df_interp.doy,format='%Y%j')\n",
    "# # df_interp = df_interp.set_index('m_date')\n",
    "# # #df_interp.resample('D').interpolate()\n",
    "# # #df_interp.columns = df_interp.columns.map('{0[0]}|{0[1]}'.format) \n",
    "# # #df_interp[df_interp.index == '2014-01-02']\n"
   ]
  },
  {
   "cell_type": "markdown",
   "metadata": {},
   "source": [
    "## Read and Format Par Data"
   ]
  },
  {
   "cell_type": "code",
   "execution_count": 8,
   "metadata": {},
   "outputs": [],
   "source": [
    "df_PAR = pd.read_excel('/home/rowangaffney/Projects/CPER_MetData/PAR_Data/CPER_Hourly_Met_Merged.xlsx')[['TIMESTAMP','PAR_Den_Avg']]\n",
    "df_PAR['TIMESTAMP'] = pd.to_datetime(df_PAR.TIMESTAMP)\n",
    "\n",
    "df_PAR['doy'] = df_PAR.TIMESTAMP.dt.dayofyear\n",
    "df_PAR['year'] = df_PAR.TIMESTAMP.dt.year\n",
    "df_PAR = df_PAR.groupby(by=['year','doy']).agg(['mean','count'])\n",
    "\n",
    "#Make sure there are a sufficient data\n",
    "df_PAR = df_PAR[(df_PAR.PAR_Den_Avg['count']>20)&(df_PAR.PAR_Den_Avg['count']<28)]\n",
    "df_PAR['m_date'] = pd.to_datetime(df_PAR.reset_index().year.values*1000+df_PAR.reset_index().doy.values,format='%Y%j')\n",
    "df_PAR = df_PAR.reset_index().set_index('m_date')\n",
    "df_PAR['rad'] = df_PAR.PAR_Den_Avg['mean']*0.219/11.574\n",
    "df_PAR.columns = ['_'.join(x) if x[1]!='' else x[0] for x in df_PAR.columns]\n",
    "df_PAR.resample('D').interpolate()\n",
    "df_PAR_interped = df_PAR.resample('D').interpolate()\n",
    "df_PAR = df_PAR.reset_index()[['m_date','year','doy','rad']].merge(df_PAR_interped.reset_index()[['m_date','year','doy','rad']], on=['m_date','year','doy'],how='outer',suffixes=['_raw','']).set_index('m_date')\n",
    "df_PAR.columns = pd.MultiIndex.from_tuples([(['','year']),(['','doy']),(['','rad_raw']),(['CPER','rad'])])"
   ]
  },
  {
   "cell_type": "markdown",
   "metadata": {},
   "source": [
    "## Functional Relations Between fPAR and NDVI"
   ]
  },
  {
   "cell_type": "code",
   "execution_count": 9,
   "metadata": {},
   "outputs": [],
   "source": [
    "df_fPAR = pd.read_csv('/home/rowangaffney/Projects/CPER_Phenology/data/from_martin_gonzalo/NDVI_to_fPAR.csv')\n",
    "df_fPAR.rename(columns={'IVN':'NDVI','FPAR_IVN':'fpar'},inplace=True)\n",
    "f_fpar = interp1d(df_fPAR.NDVI,df_fPAR.fpar)"
   ]
  },
  {
   "cell_type": "code",
   "execution_count": 150,
   "metadata": {},
   "outputs": [
    {
     "data": {
      "text/plain": [
       "Index([     'index',         'yr',        'doy',   'filename', 'past_name_',\n",
       "                  1,            2,            3,            4,            5,\n",
       "                  6,            7,            8,            9,           10,\n",
       "                 11,           12,           13,           14,           15,\n",
       "                 16,           17,           18,           19,           20,\n",
       "                 21,           22,           23,           24,           25,\n",
       "                 26,           27,           28,           29,           30,\n",
       "                 31,           32,           33,           34,           35,\n",
       "                 36,           37,           38,           39,           40,\n",
       "                 41],\n",
       "      dtype='object', name='pix_id')"
      ]
     },
     "execution_count": 150,
     "metadata": {},
     "output_type": "execute_result"
    }
   ],
   "source": [
    "df_temp2.columns.get_level_values(0).unique()"
   ]
  },
  {
   "cell_type": "code",
   "execution_count": 11,
   "metadata": {},
   "outputs": [
    {
     "data": {
      "text/plain": [
       "[<matplotlib.lines.Line2D at 0x7facfa0edeb8>]"
      ]
     },
     "execution_count": 11,
     "metadata": {},
     "output_type": "execute_result"
    },
    {
     "data": {
      "image/png": "[encoded data removed]",
      "text/plain": [
       "<Figure size 432x288 with 1 Axes>"
      ]
     },
     "metadata": {
      "needs_background": "light"
     },
     "output_type": "display_data"
    }
   ],
   "source": [
    "plt.plot(df_fPAR.NDVI,df_fPAR.fpar)"
   ]
  },
  {
   "cell_type": "markdown",
   "metadata": {},
   "source": [
    "## Both APAR and NDVI"
   ]
  },
  {
   "cell_type": "code",
   "execution_count": 218,
   "metadata": {},
   "outputs": [
    {
     "name": "stdout",
     "output_type": "stream",
     "text": [
      "1W\n"
     ]
    },
    {
     "name": "stderr",
     "output_type": "stream",
     "text": [
      "/opt/conda/lib/python3.7/site-packages/scipy/interpolate/interpolate.py:688: RuntimeWarning: invalid value encountered in less\n",
      "  below_bounds = x_new < self.x[0]\n",
      "/opt/conda/lib/python3.7/site-packages/scipy/interpolate/interpolate.py:689: RuntimeWarning: invalid value encountered in greater\n",
      "  above_bounds = x_new > self.x[-1]\n",
      "/opt/conda/lib/python3.7/site-packages/pandas/core/generic.py:3812: PerformanceWarning: dropping on a non-lexsorted multi-index without a level parameter may impact performance.\n",
      "  new_axis = axis.drop(labels, errors=errors)\n",
      "/opt/conda/lib/python3.7/site-packages/numpy/lib/histograms.py:754: RuntimeWarning: invalid value encountered in greater_equal\n",
      "  keep = (tmp_a >= first_edge)\n",
      "/opt/conda/lib/python3.7/site-packages/numpy/lib/histograms.py:755: RuntimeWarning: invalid value encountered in less_equal\n",
      "  keep &= (tmp_a <= last_edge)\n",
      "/opt/conda/lib/python3.7/site-packages/pandas/core/generic.py:3812: PerformanceWarning: dropping on a non-lexsorted multi-index without a level parameter may impact performance.\n",
      "  new_axis = axis.drop(labels, errors=errors)\n"
     ]
    },
    {
     "name": "stdout",
     "output_type": "stream",
     "text": [
      "1E\n"
     ]
    },
    {
     "name": "stderr",
     "output_type": "stream",
     "text": [
      "/opt/conda/lib/python3.7/site-packages/scipy/interpolate/interpolate.py:688: RuntimeWarning: invalid value encountered in less\n",
      "  below_bounds = x_new < self.x[0]\n",
      "/opt/conda/lib/python3.7/site-packages/scipy/interpolate/interpolate.py:689: RuntimeWarning: invalid value encountered in greater\n",
      "  above_bounds = x_new > self.x[-1]\n",
      "/opt/conda/lib/python3.7/site-packages/pandas/core/generic.py:3812: PerformanceWarning: dropping on a non-lexsorted multi-index without a level parameter may impact performance.\n",
      "  new_axis = axis.drop(labels, errors=errors)\n",
      "/opt/conda/lib/python3.7/site-packages/numpy/lib/histograms.py:754: RuntimeWarning: invalid value encountered in greater_equal\n",
      "  keep = (tmp_a >= first_edge)\n",
      "/opt/conda/lib/python3.7/site-packages/numpy/lib/histograms.py:755: RuntimeWarning: invalid value encountered in less_equal\n",
      "  keep &= (tmp_a <= last_edge)\n",
      "/opt/conda/lib/python3.7/site-packages/pandas/core/generic.py:3812: PerformanceWarning: dropping on a non-lexsorted multi-index without a level parameter may impact performance.\n",
      "  new_axis = axis.drop(labels, errors=errors)\n"
     ]
    },
    {
     "name": "stdout",
     "output_type": "stream",
     "text": [
      "6EW\n"
     ]
    },
    {
     "name": "stderr",
     "output_type": "stream",
     "text": [
      "/opt/conda/lib/python3.7/site-packages/scipy/interpolate/interpolate.py:688: RuntimeWarning: invalid value encountered in less\n",
      "  below_bounds = x_new < self.x[0]\n",
      "/opt/conda/lib/python3.7/site-packages/scipy/interpolate/interpolate.py:689: RuntimeWarning: invalid value encountered in greater\n",
      "  above_bounds = x_new > self.x[-1]\n",
      "/opt/conda/lib/python3.7/site-packages/pandas/core/generic.py:3812: PerformanceWarning: dropping on a non-lexsorted multi-index without a level parameter may impact performance.\n",
      "  new_axis = axis.drop(labels, errors=errors)\n",
      "/opt/conda/lib/python3.7/site-packages/numpy/lib/histograms.py:754: RuntimeWarning: invalid value encountered in greater_equal\n",
      "  keep = (tmp_a >= first_edge)\n",
      "/opt/conda/lib/python3.7/site-packages/numpy/lib/histograms.py:755: RuntimeWarning: invalid value encountered in less_equal\n",
      "  keep &= (tmp_a <= last_edge)\n",
      "/opt/conda/lib/python3.7/site-packages/pandas/core/generic.py:3812: PerformanceWarning: dropping on a non-lexsorted multi-index without a level parameter may impact performance.\n",
      "  new_axis = axis.drop(labels, errors=errors)\n"
     ]
    },
    {
     "name": "stdout",
     "output_type": "stream",
     "text": [
      "Pvt-6EE\n"
     ]
    },
    {
     "name": "stderr",
     "output_type": "stream",
     "text": [
      "/opt/conda/lib/python3.7/site-packages/pandas/core/generic.py:3812: PerformanceWarning: dropping on a non-lexsorted multi-index without a level parameter may impact performance.\n",
      "  new_axis = axis.drop(labels, errors=errors)\n",
      "/opt/conda/lib/python3.7/site-packages/pandas/core/generic.py:3812: PerformanceWarning: dropping on a non-lexsorted multi-index without a level parameter may impact performance.\n",
      "  new_axis = axis.drop(labels, errors=errors)\n"
     ]
    },
    {
     "name": "stdout",
     "output_type": "stream",
     "text": [
      "5W\n"
     ]
    },
    {
     "name": "stderr",
     "output_type": "stream",
     "text": [
      "/opt/conda/lib/python3.7/site-packages/pandas/core/generic.py:3812: PerformanceWarning: dropping on a non-lexsorted multi-index without a level parameter may impact performance.\n",
      "  new_axis = axis.drop(labels, errors=errors)\n",
      "/opt/conda/lib/python3.7/site-packages/pandas/core/generic.py:3812: PerformanceWarning: dropping on a non-lexsorted multi-index without a level parameter may impact performance.\n",
      "  new_axis = axis.drop(labels, errors=errors)\n"
     ]
    },
    {
     "name": "stdout",
     "output_type": "stream",
     "text": [
      "5E\n"
     ]
    },
    {
     "name": "stderr",
     "output_type": "stream",
     "text": [
      "/opt/conda/lib/python3.7/site-packages/pandas/core/generic.py:3812: PerformanceWarning: dropping on a non-lexsorted multi-index without a level parameter may impact performance.\n",
      "  new_axis = axis.drop(labels, errors=errors)\n",
      "/opt/conda/lib/python3.7/site-packages/pandas/core/generic.py:3812: PerformanceWarning: dropping on a non-lexsorted multi-index without a level parameter may impact performance.\n",
      "  new_axis = axis.drop(labels, errors=errors)\n"
     ]
    },
    {
     "name": "stdout",
     "output_type": "stream",
     "text": [
      "Slayton\n"
     ]
    },
    {
     "name": "stderr",
     "output_type": "stream",
     "text": [
      "/opt/conda/lib/python3.7/site-packages/scipy/interpolate/interpolate.py:688: RuntimeWarning: invalid value encountered in less\n",
      "  below_bounds = x_new < self.x[0]\n",
      "/opt/conda/lib/python3.7/site-packages/scipy/interpolate/interpolate.py:689: RuntimeWarning: invalid value encountered in greater\n",
      "  above_bounds = x_new > self.x[-1]\n",
      "/opt/conda/lib/python3.7/site-packages/pandas/core/generic.py:3812: PerformanceWarning: dropping on a non-lexsorted multi-index without a level parameter may impact performance.\n",
      "  new_axis = axis.drop(labels, errors=errors)\n",
      "/opt/conda/lib/python3.7/site-packages/numpy/lib/histograms.py:754: RuntimeWarning: invalid value encountered in greater_equal\n",
      "  keep = (tmp_a >= first_edge)\n",
      "/opt/conda/lib/python3.7/site-packages/numpy/lib/histograms.py:755: RuntimeWarning: invalid value encountered in less_equal\n",
      "  keep &= (tmp_a <= last_edge)\n",
      "/opt/conda/lib/python3.7/site-packages/pandas/core/generic.py:3812: PerformanceWarning: dropping on a non-lexsorted multi-index without a level parameter may impact performance.\n",
      "  new_axis = axis.drop(labels, errors=errors)\n"
     ]
    },
    {
     "name": "stdout",
     "output_type": "stream",
     "text": [
      "11NW\n"
     ]
    },
    {
     "name": "stderr",
     "output_type": "stream",
     "text": [
      "/opt/conda/lib/python3.7/site-packages/scipy/interpolate/interpolate.py:688: RuntimeWarning: invalid value encountered in less\n",
      "  below_bounds = x_new < self.x[0]\n",
      "/opt/conda/lib/python3.7/site-packages/scipy/interpolate/interpolate.py:689: RuntimeWarning: invalid value encountered in greater\n",
      "  above_bounds = x_new > self.x[-1]\n",
      "/opt/conda/lib/python3.7/site-packages/pandas/core/generic.py:3812: PerformanceWarning: dropping on a non-lexsorted multi-index without a level parameter may impact performance.\n",
      "  new_axis = axis.drop(labels, errors=errors)\n",
      "/opt/conda/lib/python3.7/site-packages/numpy/lib/histograms.py:754: RuntimeWarning: invalid value encountered in greater_equal\n",
      "  keep = (tmp_a >= first_edge)\n",
      "/opt/conda/lib/python3.7/site-packages/numpy/lib/histograms.py:755: RuntimeWarning: invalid value encountered in less_equal\n",
      "  keep &= (tmp_a <= last_edge)\n",
      "/opt/conda/lib/python3.7/site-packages/pandas/core/generic.py:3812: PerformanceWarning: dropping on a non-lexsorted multi-index without a level parameter may impact performance.\n",
      "  new_axis = axis.drop(labels, errors=errors)\n"
     ]
    },
    {
     "name": "stdout",
     "output_type": "stream",
     "text": [
      "Pvt-12NE\n"
     ]
    },
    {
     "name": "stderr",
     "output_type": "stream",
     "text": [
      "/opt/conda/lib/python3.7/site-packages/scipy/interpolate/interpolate.py:688: RuntimeWarning: invalid value encountered in less\n",
      "  below_bounds = x_new < self.x[0]\n",
      "/opt/conda/lib/python3.7/site-packages/scipy/interpolate/interpolate.py:689: RuntimeWarning: invalid value encountered in greater\n",
      "  above_bounds = x_new > self.x[-1]\n",
      "/opt/conda/lib/python3.7/site-packages/pandas/core/generic.py:3812: PerformanceWarning: dropping on a non-lexsorted multi-index without a level parameter may impact performance.\n",
      "  new_axis = axis.drop(labels, errors=errors)\n",
      "/opt/conda/lib/python3.7/site-packages/numpy/lib/histograms.py:754: RuntimeWarning: invalid value encountered in greater_equal\n",
      "  keep = (tmp_a >= first_edge)\n",
      "/opt/conda/lib/python3.7/site-packages/numpy/lib/histograms.py:755: RuntimeWarning: invalid value encountered in less_equal\n",
      "  keep &= (tmp_a <= last_edge)\n",
      "/opt/conda/lib/python3.7/site-packages/pandas/core/generic.py:3812: PerformanceWarning: dropping on a non-lexsorted multi-index without a level parameter may impact performance.\n",
      "  new_axis = axis.drop(labels, errors=errors)\n"
     ]
    },
    {
     "name": "stdout",
     "output_type": "stream",
     "text": [
      "12NW\n"
     ]
    },
    {
     "name": "stderr",
     "output_type": "stream",
     "text": [
      "/opt/conda/lib/python3.7/site-packages/scipy/interpolate/interpolate.py:688: RuntimeWarning: invalid value encountered in less\n",
      "  below_bounds = x_new < self.x[0]\n",
      "/opt/conda/lib/python3.7/site-packages/scipy/interpolate/interpolate.py:689: RuntimeWarning: invalid value encountered in greater\n",
      "  above_bounds = x_new > self.x[-1]\n",
      "/opt/conda/lib/python3.7/site-packages/pandas/core/generic.py:3812: PerformanceWarning: dropping on a non-lexsorted multi-index without a level parameter may impact performance.\n",
      "  new_axis = axis.drop(labels, errors=errors)\n",
      "/opt/conda/lib/python3.7/site-packages/numpy/lib/histograms.py:754: RuntimeWarning: invalid value encountered in greater_equal\n",
      "  keep = (tmp_a >= first_edge)\n",
      "/opt/conda/lib/python3.7/site-packages/numpy/lib/histograms.py:755: RuntimeWarning: invalid value encountered in less_equal\n",
      "  keep &= (tmp_a <= last_edge)\n",
      "/opt/conda/lib/python3.7/site-packages/pandas/core/generic.py:3812: PerformanceWarning: dropping on a non-lexsorted multi-index without a level parameter may impact performance.\n",
      "  new_axis = axis.drop(labels, errors=errors)\n"
     ]
    },
    {
     "name": "stdout",
     "output_type": "stream",
     "text": [
      "12NWcorner\n",
      "7NW\n"
     ]
    },
    {
     "name": "stderr",
     "output_type": "stream",
     "text": [
      "/opt/conda/lib/python3.7/site-packages/scipy/interpolate/interpolate.py:688: RuntimeWarning: invalid value encountered in less\n",
      "  below_bounds = x_new < self.x[0]\n",
      "/opt/conda/lib/python3.7/site-packages/scipy/interpolate/interpolate.py:689: RuntimeWarning: invalid value encountered in greater\n",
      "  above_bounds = x_new > self.x[-1]\n",
      "/opt/conda/lib/python3.7/site-packages/pandas/core/generic.py:3812: PerformanceWarning: dropping on a non-lexsorted multi-index without a level parameter may impact performance.\n",
      "  new_axis = axis.drop(labels, errors=errors)\n",
      "/opt/conda/lib/python3.7/site-packages/numpy/lib/histograms.py:754: RuntimeWarning: invalid value encountered in greater_equal\n",
      "  keep = (tmp_a >= first_edge)\n",
      "/opt/conda/lib/python3.7/site-packages/numpy/lib/histograms.py:755: RuntimeWarning: invalid value encountered in less_equal\n",
      "  keep &= (tmp_a <= last_edge)\n",
      "/opt/conda/lib/python3.7/site-packages/pandas/core/generic.py:3812: PerformanceWarning: dropping on a non-lexsorted multi-index without a level parameter may impact performance.\n",
      "  new_axis = axis.drop(labels, errors=errors)\n"
     ]
    },
    {
     "name": "stdout",
     "output_type": "stream",
     "text": [
      "7SE\n"
     ]
    },
    {
     "name": "stderr",
     "output_type": "stream",
     "text": [
      "/opt/conda/lib/python3.7/site-packages/scipy/interpolate/interpolate.py:688: RuntimeWarning: invalid value encountered in less\n",
      "  below_bounds = x_new < self.x[0]\n",
      "/opt/conda/lib/python3.7/site-packages/scipy/interpolate/interpolate.py:689: RuntimeWarning: invalid value encountered in greater\n",
      "  above_bounds = x_new > self.x[-1]\n",
      "/opt/conda/lib/python3.7/site-packages/pandas/core/generic.py:3812: PerformanceWarning: dropping on a non-lexsorted multi-index without a level parameter may impact performance.\n",
      "  new_axis = axis.drop(labels, errors=errors)\n",
      "/opt/conda/lib/python3.7/site-packages/numpy/lib/histograms.py:754: RuntimeWarning: invalid value encountered in greater_equal\n",
      "  keep = (tmp_a >= first_edge)\n",
      "/opt/conda/lib/python3.7/site-packages/numpy/lib/histograms.py:755: RuntimeWarning: invalid value encountered in less_equal\n",
      "  keep &= (tmp_a <= last_edge)\n",
      "/opt/conda/lib/python3.7/site-packages/pandas/core/generic.py:3812: PerformanceWarning: dropping on a non-lexsorted multi-index without a level parameter may impact performance.\n",
      "  new_axis = axis.drop(labels, errors=errors)\n"
     ]
    },
    {
     "name": "stdout",
     "output_type": "stream",
     "text": [
      "8NW\n"
     ]
    },
    {
     "name": "stderr",
     "output_type": "stream",
     "text": [
      "/opt/conda/lib/python3.7/site-packages/pandas/core/generic.py:3812: PerformanceWarning: dropping on a non-lexsorted multi-index without a level parameter may impact performance.\n",
      "  new_axis = axis.drop(labels, errors=errors)\n",
      "/opt/conda/lib/python3.7/site-packages/pandas/core/generic.py:3812: PerformanceWarning: dropping on a non-lexsorted multi-index without a level parameter may impact performance.\n",
      "  new_axis = axis.drop(labels, errors=errors)\n"
     ]
    },
    {
     "name": "stdout",
     "output_type": "stream",
     "text": [
      "8E\n"
     ]
    },
    {
     "name": "stderr",
     "output_type": "stream",
     "text": [
      "/opt/conda/lib/python3.7/site-packages/scipy/interpolate/interpolate.py:688: RuntimeWarning: invalid value encountered in less\n",
      "  below_bounds = x_new < self.x[0]\n",
      "/opt/conda/lib/python3.7/site-packages/scipy/interpolate/interpolate.py:689: RuntimeWarning: invalid value encountered in greater\n",
      "  above_bounds = x_new > self.x[-1]\n",
      "/opt/conda/lib/python3.7/site-packages/pandas/core/generic.py:3812: PerformanceWarning: dropping on a non-lexsorted multi-index without a level parameter may impact performance.\n",
      "  new_axis = axis.drop(labels, errors=errors)\n",
      "/opt/conda/lib/python3.7/site-packages/pandas/core/generic.py:3812: PerformanceWarning: dropping on a non-lexsorted multi-index without a level parameter may impact performance.\n",
      "  new_axis = axis.drop(labels, errors=errors)\n"
     ]
    },
    {
     "name": "stdout",
     "output_type": "stream",
     "text": [
      "11NS\n"
     ]
    },
    {
     "name": "stderr",
     "output_type": "stream",
     "text": [
      "/opt/conda/lib/python3.7/site-packages/scipy/interpolate/interpolate.py:688: RuntimeWarning: invalid value encountered in less\n",
      "  below_bounds = x_new < self.x[0]\n",
      "/opt/conda/lib/python3.7/site-packages/scipy/interpolate/interpolate.py:689: RuntimeWarning: invalid value encountered in greater\n",
      "  above_bounds = x_new > self.x[-1]\n",
      "/opt/conda/lib/python3.7/site-packages/pandas/core/generic.py:3812: PerformanceWarning: dropping on a non-lexsorted multi-index without a level parameter may impact performance.\n",
      "  new_axis = axis.drop(labels, errors=errors)\n",
      "/opt/conda/lib/python3.7/site-packages/numpy/lib/histograms.py:754: RuntimeWarning: invalid value encountered in greater_equal\n",
      "  keep = (tmp_a >= first_edge)\n",
      "/opt/conda/lib/python3.7/site-packages/numpy/lib/histograms.py:755: RuntimeWarning: invalid value encountered in less_equal\n",
      "  keep &= (tmp_a <= last_edge)\n",
      "/opt/conda/lib/python3.7/site-packages/pandas/core/generic.py:3812: PerformanceWarning: dropping on a non-lexsorted multi-index without a level parameter may impact performance.\n",
      "  new_axis = axis.drop(labels, errors=errors)\n"
     ]
    },
    {
     "name": "stdout",
     "output_type": "stream",
     "text": [
      "10S\n"
     ]
    },
    {
     "name": "stderr",
     "output_type": "stream",
     "text": [
      "/opt/conda/lib/python3.7/site-packages/scipy/interpolate/interpolate.py:688: RuntimeWarning: invalid value encountered in less\n",
      "  below_bounds = x_new < self.x[0]\n",
      "/opt/conda/lib/python3.7/site-packages/scipy/interpolate/interpolate.py:689: RuntimeWarning: invalid value encountered in greater\n",
      "  above_bounds = x_new > self.x[-1]\n",
      "/opt/conda/lib/python3.7/site-packages/pandas/core/generic.py:3812: PerformanceWarning: dropping on a non-lexsorted multi-index without a level parameter may impact performance.\n",
      "  new_axis = axis.drop(labels, errors=errors)\n",
      "/opt/conda/lib/python3.7/site-packages/numpy/lib/histograms.py:754: RuntimeWarning: invalid value encountered in greater_equal\n",
      "  keep = (tmp_a >= first_edge)\n",
      "/opt/conda/lib/python3.7/site-packages/numpy/lib/histograms.py:755: RuntimeWarning: invalid value encountered in less_equal\n",
      "  keep &= (tmp_a <= last_edge)\n",
      "/opt/conda/lib/python3.7/site-packages/pandas/core/generic.py:3812: PerformanceWarning: dropping on a non-lexsorted multi-index without a level parameter may impact performance.\n",
      "  new_axis = axis.drop(labels, errors=errors)\n"
     ]
    },
    {
     "name": "stdout",
     "output_type": "stream",
     "text": [
      "10SNE\n"
     ]
    },
    {
     "name": "stderr",
     "output_type": "stream",
     "text": [
      "/opt/conda/lib/python3.7/site-packages/pandas/core/generic.py:3812: PerformanceWarning: dropping on a non-lexsorted multi-index without a level parameter may impact performance.\n",
      "  new_axis = axis.drop(labels, errors=errors)\n",
      "/opt/conda/lib/python3.7/site-packages/pandas/core/generic.py:3812: PerformanceWarning: dropping on a non-lexsorted multi-index without a level parameter may impact performance.\n",
      "  new_axis = axis.drop(labels, errors=errors)\n"
     ]
    },
    {
     "name": "stdout",
     "output_type": "stream",
     "text": [
      "Pvt-8SW\n"
     ]
    },
    {
     "name": "stderr",
     "output_type": "stream",
     "text": [
      "/opt/conda/lib/python3.7/site-packages/scipy/interpolate/interpolate.py:688: RuntimeWarning: invalid value encountered in less\n",
      "  below_bounds = x_new < self.x[0]\n",
      "/opt/conda/lib/python3.7/site-packages/scipy/interpolate/interpolate.py:689: RuntimeWarning: invalid value encountered in greater\n",
      "  above_bounds = x_new > self.x[-1]\n",
      "/opt/conda/lib/python3.7/site-packages/pandas/core/generic.py:3812: PerformanceWarning: dropping on a non-lexsorted multi-index without a level parameter may impact performance.\n",
      "  new_axis = axis.drop(labels, errors=errors)\n",
      "/opt/conda/lib/python3.7/site-packages/numpy/lib/histograms.py:754: RuntimeWarning: invalid value encountered in greater_equal\n",
      "  keep = (tmp_a >= first_edge)\n",
      "/opt/conda/lib/python3.7/site-packages/numpy/lib/histograms.py:755: RuntimeWarning: invalid value encountered in less_equal\n",
      "  keep &= (tmp_a <= last_edge)\n",
      "/opt/conda/lib/python3.7/site-packages/pandas/core/generic.py:3812: PerformanceWarning: dropping on a non-lexsorted multi-index without a level parameter may impact performance.\n",
      "  new_axis = axis.drop(labels, errors=errors)\n"
     ]
    },
    {
     "name": "stdout",
     "output_type": "stream",
     "text": [
      "12C\n"
     ]
    },
    {
     "name": "stderr",
     "output_type": "stream",
     "text": [
      "/opt/conda/lib/python3.7/site-packages/scipy/interpolate/interpolate.py:688: RuntimeWarning: invalid value encountered in less\n",
      "  below_bounds = x_new < self.x[0]\n",
      "/opt/conda/lib/python3.7/site-packages/scipy/interpolate/interpolate.py:689: RuntimeWarning: invalid value encountered in greater\n",
      "  above_bounds = x_new > self.x[-1]\n",
      "/opt/conda/lib/python3.7/site-packages/pandas/core/generic.py:3812: PerformanceWarning: dropping on a non-lexsorted multi-index without a level parameter may impact performance.\n",
      "  new_axis = axis.drop(labels, errors=errors)\n",
      "/opt/conda/lib/python3.7/site-packages/numpy/lib/histograms.py:754: RuntimeWarning: invalid value encountered in greater_equal\n",
      "  keep = (tmp_a >= first_edge)\n",
      "/opt/conda/lib/python3.7/site-packages/numpy/lib/histograms.py:755: RuntimeWarning: invalid value encountered in less_equal\n",
      "  keep &= (tmp_a <= last_edge)\n",
      "/opt/conda/lib/python3.7/site-packages/pandas/core/generic.py:3812: PerformanceWarning: dropping on a non-lexsorted multi-index without a level parameter may impact performance.\n",
      "  new_axis = axis.drop(labels, errors=errors)\n"
     ]
    },
    {
     "name": "stdout",
     "output_type": "stream",
     "text": [
      "HQ\n"
     ]
    },
    {
     "name": "stderr",
     "output_type": "stream",
     "text": [
      "/opt/conda/lib/python3.7/site-packages/scipy/interpolate/interpolate.py:688: RuntimeWarning: invalid value encountered in less\n",
      "  below_bounds = x_new < self.x[0]\n",
      "/opt/conda/lib/python3.7/site-packages/scipy/interpolate/interpolate.py:689: RuntimeWarning: invalid value encountered in greater\n",
      "  above_bounds = x_new > self.x[-1]\n",
      "/opt/conda/lib/python3.7/site-packages/pandas/core/generic.py:3812: PerformanceWarning: dropping on a non-lexsorted multi-index without a level parameter may impact performance.\n",
      "  new_axis = axis.drop(labels, errors=errors)\n",
      "/opt/conda/lib/python3.7/site-packages/numpy/lib/histograms.py:754: RuntimeWarning: invalid value encountered in greater_equal\n",
      "  keep = (tmp_a >= first_edge)\n",
      "/opt/conda/lib/python3.7/site-packages/numpy/lib/histograms.py:755: RuntimeWarning: invalid value encountered in less_equal\n",
      "  keep &= (tmp_a <= last_edge)\n",
      "/opt/conda/lib/python3.7/site-packages/pandas/core/generic.py:3812: PerformanceWarning: dropping on a non-lexsorted multi-index without a level parameter may impact performance.\n",
      "  new_axis = axis.drop(labels, errors=errors)\n"
     ]
    },
    {
     "name": "stdout",
     "output_type": "stream",
     "text": [
      "8SE\n"
     ]
    },
    {
     "name": "stderr",
     "output_type": "stream",
     "text": [
      "/opt/conda/lib/python3.7/site-packages/scipy/interpolate/interpolate.py:688: RuntimeWarning: invalid value encountered in less\n",
      "  below_bounds = x_new < self.x[0]\n",
      "/opt/conda/lib/python3.7/site-packages/scipy/interpolate/interpolate.py:689: RuntimeWarning: invalid value encountered in greater\n",
      "  above_bounds = x_new > self.x[-1]\n",
      "/opt/conda/lib/python3.7/site-packages/pandas/core/generic.py:3812: PerformanceWarning: dropping on a non-lexsorted multi-index without a level parameter may impact performance.\n",
      "  new_axis = axis.drop(labels, errors=errors)\n",
      "/opt/conda/lib/python3.7/site-packages/numpy/lib/histograms.py:754: RuntimeWarning: invalid value encountered in greater_equal\n",
      "  keep = (tmp_a >= first_edge)\n",
      "/opt/conda/lib/python3.7/site-packages/numpy/lib/histograms.py:755: RuntimeWarning: invalid value encountered in less_equal\n",
      "  keep &= (tmp_a <= last_edge)\n",
      "/opt/conda/lib/python3.7/site-packages/pandas/core/generic.py:3812: PerformanceWarning: dropping on a non-lexsorted multi-index without a level parameter may impact performance.\n",
      "  new_axis = axis.drop(labels, errors=errors)\n"
     ]
    },
    {
     "name": "stdout",
     "output_type": "stream",
     "text": [
      "Pvt-14\n"
     ]
    },
    {
     "name": "stderr",
     "output_type": "stream",
     "text": [
      "/opt/conda/lib/python3.7/site-packages/scipy/interpolate/interpolate.py:688: RuntimeWarning: invalid value encountered in less\n",
      "  below_bounds = x_new < self.x[0]\n",
      "/opt/conda/lib/python3.7/site-packages/scipy/interpolate/interpolate.py:689: RuntimeWarning: invalid value encountered in greater\n",
      "  above_bounds = x_new > self.x[-1]\n",
      "/opt/conda/lib/python3.7/site-packages/pandas/core/generic.py:3812: PerformanceWarning: dropping on a non-lexsorted multi-index without a level parameter may impact performance.\n",
      "  new_axis = axis.drop(labels, errors=errors)\n",
      "/opt/conda/lib/python3.7/site-packages/numpy/lib/histograms.py:754: RuntimeWarning: invalid value encountered in greater_equal\n",
      "  keep = (tmp_a >= first_edge)\n",
      "/opt/conda/lib/python3.7/site-packages/numpy/lib/histograms.py:755: RuntimeWarning: invalid value encountered in less_equal\n",
      "  keep &= (tmp_a <= last_edge)\n",
      "/opt/conda/lib/python3.7/site-packages/pandas/core/generic.py:3812: PerformanceWarning: dropping on a non-lexsorted multi-index without a level parameter may impact performance.\n",
      "  new_axis = axis.drop(labels, errors=errors)\n"
     ]
    },
    {
     "name": "stdout",
     "output_type": "stream",
     "text": [
      "17N\n"
     ]
    },
    {
     "name": "stderr",
     "output_type": "stream",
     "text": [
      "/opt/conda/lib/python3.7/site-packages/scipy/interpolate/interpolate.py:688: RuntimeWarning: invalid value encountered in less\n",
      "  below_bounds = x_new < self.x[0]\n",
      "/opt/conda/lib/python3.7/site-packages/scipy/interpolate/interpolate.py:689: RuntimeWarning: invalid value encountered in greater\n",
      "  above_bounds = x_new > self.x[-1]\n",
      "/opt/conda/lib/python3.7/site-packages/pandas/core/generic.py:3812: PerformanceWarning: dropping on a non-lexsorted multi-index without a level parameter may impact performance.\n",
      "  new_axis = axis.drop(labels, errors=errors)\n",
      "/opt/conda/lib/python3.7/site-packages/numpy/lib/histograms.py:754: RuntimeWarning: invalid value encountered in greater_equal\n",
      "  keep = (tmp_a >= first_edge)\n",
      "/opt/conda/lib/python3.7/site-packages/numpy/lib/histograms.py:755: RuntimeWarning: invalid value encountered in less_equal\n",
      "  keep &= (tmp_a <= last_edge)\n",
      "/opt/conda/lib/python3.7/site-packages/pandas/core/generic.py:3812: PerformanceWarning: dropping on a non-lexsorted multi-index without a level parameter may impact performance.\n",
      "  new_axis = axis.drop(labels, errors=errors)\n"
     ]
    },
    {
     "name": "stdout",
     "output_type": "stream",
     "text": [
      "15NWS\n"
     ]
    },
    {
     "name": "stderr",
     "output_type": "stream",
     "text": [
      "/opt/conda/lib/python3.7/site-packages/scipy/interpolate/interpolate.py:688: RuntimeWarning: invalid value encountered in less\n",
      "  below_bounds = x_new < self.x[0]\n",
      "/opt/conda/lib/python3.7/site-packages/scipy/interpolate/interpolate.py:689: RuntimeWarning: invalid value encountered in greater\n",
      "  above_bounds = x_new > self.x[-1]\n",
      "/opt/conda/lib/python3.7/site-packages/pandas/core/generic.py:3812: PerformanceWarning: dropping on a non-lexsorted multi-index without a level parameter may impact performance.\n",
      "  new_axis = axis.drop(labels, errors=errors)\n",
      "/opt/conda/lib/python3.7/site-packages/numpy/lib/histograms.py:754: RuntimeWarning: invalid value encountered in greater_equal\n",
      "  keep = (tmp_a >= first_edge)\n",
      "/opt/conda/lib/python3.7/site-packages/numpy/lib/histograms.py:755: RuntimeWarning: invalid value encountered in less_equal\n",
      "  keep &= (tmp_a <= last_edge)\n",
      "/opt/conda/lib/python3.7/site-packages/pandas/core/generic.py:3812: PerformanceWarning: dropping on a non-lexsorted multi-index without a level parameter may impact performance.\n",
      "  new_axis = axis.drop(labels, errors=errors)\n"
     ]
    },
    {
     "name": "stdout",
     "output_type": "stream",
     "text": [
      "13W\n"
     ]
    },
    {
     "name": "stderr",
     "output_type": "stream",
     "text": [
      "/opt/conda/lib/python3.7/site-packages/scipy/interpolate/interpolate.py:688: RuntimeWarning: invalid value encountered in less\n",
      "  below_bounds = x_new < self.x[0]\n",
      "/opt/conda/lib/python3.7/site-packages/scipy/interpolate/interpolate.py:689: RuntimeWarning: invalid value encountered in greater\n",
      "  above_bounds = x_new > self.x[-1]\n",
      "/opt/conda/lib/python3.7/site-packages/pandas/core/generic.py:3812: PerformanceWarning: dropping on a non-lexsorted multi-index without a level parameter may impact performance.\n",
      "  new_axis = axis.drop(labels, errors=errors)\n",
      "/opt/conda/lib/python3.7/site-packages/numpy/lib/histograms.py:754: RuntimeWarning: invalid value encountered in greater_equal\n",
      "  keep = (tmp_a >= first_edge)\n",
      "/opt/conda/lib/python3.7/site-packages/numpy/lib/histograms.py:755: RuntimeWarning: invalid value encountered in less_equal\n",
      "  keep &= (tmp_a <= last_edge)\n",
      "/opt/conda/lib/python3.7/site-packages/pandas/core/generic.py:3812: PerformanceWarning: dropping on a non-lexsorted multi-index without a level parameter may impact performance.\n",
      "  new_axis = axis.drop(labels, errors=errors)\n"
     ]
    },
    {
     "name": "stdout",
     "output_type": "stream",
     "text": [
      "18S\n"
     ]
    },
    {
     "name": "stderr",
     "output_type": "stream",
     "text": [
      "/opt/conda/lib/python3.7/site-packages/scipy/interpolate/interpolate.py:688: RuntimeWarning: invalid value encountered in less\n",
      "  below_bounds = x_new < self.x[0]\n",
      "/opt/conda/lib/python3.7/site-packages/scipy/interpolate/interpolate.py:689: RuntimeWarning: invalid value encountered in greater\n",
      "  above_bounds = x_new > self.x[-1]\n",
      "/opt/conda/lib/python3.7/site-packages/pandas/core/generic.py:3812: PerformanceWarning: dropping on a non-lexsorted multi-index without a level parameter may impact performance.\n",
      "  new_axis = axis.drop(labels, errors=errors)\n",
      "/opt/conda/lib/python3.7/site-packages/numpy/lib/histograms.py:754: RuntimeWarning: invalid value encountered in greater_equal\n",
      "  keep = (tmp_a >= first_edge)\n",
      "/opt/conda/lib/python3.7/site-packages/numpy/lib/histograms.py:755: RuntimeWarning: invalid value encountered in less_equal\n",
      "  keep &= (tmp_a <= last_edge)\n",
      "/opt/conda/lib/python3.7/site-packages/pandas/core/generic.py:3812: PerformanceWarning: dropping on a non-lexsorted multi-index without a level parameter may impact performance.\n",
      "  new_axis = axis.drop(labels, errors=errors)\n"
     ]
    },
    {
     "name": "stdout",
     "output_type": "stream",
     "text": [
      "18N\n"
     ]
    },
    {
     "name": "stderr",
     "output_type": "stream",
     "text": [
      "/opt/conda/lib/python3.7/site-packages/scipy/interpolate/interpolate.py:688: RuntimeWarning: invalid value encountered in less\n",
      "  below_bounds = x_new < self.x[0]\n",
      "/opt/conda/lib/python3.7/site-packages/scipy/interpolate/interpolate.py:689: RuntimeWarning: invalid value encountered in greater\n",
      "  above_bounds = x_new > self.x[-1]\n",
      "/opt/conda/lib/python3.7/site-packages/pandas/core/generic.py:3812: PerformanceWarning: dropping on a non-lexsorted multi-index without a level parameter may impact performance.\n",
      "  new_axis = axis.drop(labels, errors=errors)\n",
      "/opt/conda/lib/python3.7/site-packages/numpy/lib/histograms.py:754: RuntimeWarning: invalid value encountered in greater_equal\n",
      "  keep = (tmp_a >= first_edge)\n",
      "/opt/conda/lib/python3.7/site-packages/numpy/lib/histograms.py:755: RuntimeWarning: invalid value encountered in less_equal\n",
      "  keep &= (tmp_a <= last_edge)\n",
      "/opt/conda/lib/python3.7/site-packages/pandas/core/generic.py:3812: PerformanceWarning: dropping on a non-lexsorted multi-index without a level parameter may impact performance.\n",
      "  new_axis = axis.drop(labels, errors=errors)\n"
     ]
    },
    {
     "name": "stdout",
     "output_type": "stream",
     "text": [
      "17S\n"
     ]
    },
    {
     "name": "stderr",
     "output_type": "stream",
     "text": [
      "/opt/conda/lib/python3.7/site-packages/scipy/interpolate/interpolate.py:688: RuntimeWarning: invalid value encountered in less\n",
      "  below_bounds = x_new < self.x[0]\n",
      "/opt/conda/lib/python3.7/site-packages/scipy/interpolate/interpolate.py:689: RuntimeWarning: invalid value encountered in greater\n",
      "  above_bounds = x_new > self.x[-1]\n",
      "/opt/conda/lib/python3.7/site-packages/pandas/core/generic.py:3812: PerformanceWarning: dropping on a non-lexsorted multi-index without a level parameter may impact performance.\n",
      "  new_axis = axis.drop(labels, errors=errors)\n",
      "/opt/conda/lib/python3.7/site-packages/numpy/lib/histograms.py:754: RuntimeWarning: invalid value encountered in greater_equal\n",
      "  keep = (tmp_a >= first_edge)\n",
      "/opt/conda/lib/python3.7/site-packages/numpy/lib/histograms.py:755: RuntimeWarning: invalid value encountered in less_equal\n",
      "  keep &= (tmp_a <= last_edge)\n",
      "/opt/conda/lib/python3.7/site-packages/pandas/core/generic.py:3812: PerformanceWarning: dropping on a non-lexsorted multi-index without a level parameter may impact performance.\n",
      "  new_axis = axis.drop(labels, errors=errors)\n"
     ]
    },
    {
     "name": "stdout",
     "output_type": "stream",
     "text": [
      "15E\n"
     ]
    },
    {
     "name": "stderr",
     "output_type": "stream",
     "text": [
      "/opt/conda/lib/python3.7/site-packages/scipy/interpolate/interpolate.py:688: RuntimeWarning: invalid value encountered in less\n",
      "  below_bounds = x_new < self.x[0]\n",
      "/opt/conda/lib/python3.7/site-packages/scipy/interpolate/interpolate.py:689: RuntimeWarning: invalid value encountered in greater\n",
      "  above_bounds = x_new > self.x[-1]\n",
      "/opt/conda/lib/python3.7/site-packages/pandas/core/generic.py:3812: PerformanceWarning: dropping on a non-lexsorted multi-index without a level parameter may impact performance.\n",
      "  new_axis = axis.drop(labels, errors=errors)\n",
      "/opt/conda/lib/python3.7/site-packages/numpy/lib/histograms.py:754: RuntimeWarning: invalid value encountered in greater_equal\n",
      "  keep = (tmp_a >= first_edge)\n",
      "/opt/conda/lib/python3.7/site-packages/numpy/lib/histograms.py:755: RuntimeWarning: invalid value encountered in less_equal\n",
      "  keep &= (tmp_a <= last_edge)\n",
      "/opt/conda/lib/python3.7/site-packages/pandas/core/generic.py:3812: PerformanceWarning: dropping on a non-lexsorted multi-index without a level parameter may impact performance.\n",
      "  new_axis = axis.drop(labels, errors=errors)\n"
     ]
    },
    {
     "name": "stdout",
     "output_type": "stream",
     "text": [
      "13E\n"
     ]
    },
    {
     "name": "stderr",
     "output_type": "stream",
     "text": [
      "/opt/conda/lib/python3.7/site-packages/scipy/interpolate/interpolate.py:688: RuntimeWarning: invalid value encountered in less\n",
      "  below_bounds = x_new < self.x[0]\n",
      "/opt/conda/lib/python3.7/site-packages/scipy/interpolate/interpolate.py:689: RuntimeWarning: invalid value encountered in greater\n",
      "  above_bounds = x_new > self.x[-1]\n",
      "/opt/conda/lib/python3.7/site-packages/pandas/core/generic.py:3812: PerformanceWarning: dropping on a non-lexsorted multi-index without a level parameter may impact performance.\n",
      "  new_axis = axis.drop(labels, errors=errors)\n",
      "/opt/conda/lib/python3.7/site-packages/numpy/lib/histograms.py:754: RuntimeWarning: invalid value encountered in greater_equal\n",
      "  keep = (tmp_a >= first_edge)\n",
      "/opt/conda/lib/python3.7/site-packages/numpy/lib/histograms.py:755: RuntimeWarning: invalid value encountered in less_equal\n",
      "  keep &= (tmp_a <= last_edge)\n",
      "/opt/conda/lib/python3.7/site-packages/pandas/core/generic.py:3812: PerformanceWarning: dropping on a non-lexsorted multi-index without a level parameter may impact performance.\n",
      "  new_axis = axis.drop(labels, errors=errors)\n"
     ]
    },
    {
     "name": "stdout",
     "output_type": "stream",
     "text": [
      "15SW\n"
     ]
    },
    {
     "name": "stderr",
     "output_type": "stream",
     "text": [
      "/opt/conda/lib/python3.7/site-packages/scipy/interpolate/interpolate.py:688: RuntimeWarning: invalid value encountered in less\n",
      "  below_bounds = x_new < self.x[0]\n",
      "/opt/conda/lib/python3.7/site-packages/scipy/interpolate/interpolate.py:689: RuntimeWarning: invalid value encountered in greater\n",
      "  above_bounds = x_new > self.x[-1]\n",
      "/opt/conda/lib/python3.7/site-packages/pandas/core/generic.py:3812: PerformanceWarning: dropping on a non-lexsorted multi-index without a level parameter may impact performance.\n",
      "  new_axis = axis.drop(labels, errors=errors)\n",
      "/opt/conda/lib/python3.7/site-packages/numpy/lib/histograms.py:754: RuntimeWarning: invalid value encountered in greater_equal\n",
      "  keep = (tmp_a >= first_edge)\n",
      "/opt/conda/lib/python3.7/site-packages/numpy/lib/histograms.py:755: RuntimeWarning: invalid value encountered in less_equal\n",
      "  keep &= (tmp_a <= last_edge)\n",
      "/opt/conda/lib/python3.7/site-packages/pandas/core/generic.py:3812: PerformanceWarning: dropping on a non-lexsorted multi-index without a level parameter may impact performance.\n",
      "  new_axis = axis.drop(labels, errors=errors)\n"
     ]
    },
    {
     "name": "stdout",
     "output_type": "stream",
     "text": [
      "21N\n"
     ]
    },
    {
     "name": "stderr",
     "output_type": "stream",
     "text": [
      "/opt/conda/lib/python3.7/site-packages/scipy/interpolate/interpolate.py:688: RuntimeWarning: invalid value encountered in less\n",
      "  below_bounds = x_new < self.x[0]\n",
      "/opt/conda/lib/python3.7/site-packages/scipy/interpolate/interpolate.py:689: RuntimeWarning: invalid value encountered in greater\n",
      "  above_bounds = x_new > self.x[-1]\n",
      "/opt/conda/lib/python3.7/site-packages/pandas/core/generic.py:3812: PerformanceWarning: dropping on a non-lexsorted multi-index without a level parameter may impact performance.\n",
      "  new_axis = axis.drop(labels, errors=errors)\n",
      "/opt/conda/lib/python3.7/site-packages/numpy/lib/histograms.py:754: RuntimeWarning: invalid value encountered in greater_equal\n",
      "  keep = (tmp_a >= first_edge)\n",
      "/opt/conda/lib/python3.7/site-packages/numpy/lib/histograms.py:755: RuntimeWarning: invalid value encountered in less_equal\n",
      "  keep &= (tmp_a <= last_edge)\n",
      "/opt/conda/lib/python3.7/site-packages/pandas/core/generic.py:3812: PerformanceWarning: dropping on a non-lexsorted multi-index without a level parameter may impact performance.\n",
      "  new_axis = axis.drop(labels, errors=errors)\n"
     ]
    },
    {
     "name": "stdout",
     "output_type": "stream",
     "text": [
      "22W\n"
     ]
    },
    {
     "name": "stderr",
     "output_type": "stream",
     "text": [
      "/opt/conda/lib/python3.7/site-packages/scipy/interpolate/interpolate.py:688: RuntimeWarning: invalid value encountered in less\n",
      "  below_bounds = x_new < self.x[0]\n",
      "/opt/conda/lib/python3.7/site-packages/scipy/interpolate/interpolate.py:689: RuntimeWarning: invalid value encountered in greater\n",
      "  above_bounds = x_new > self.x[-1]\n",
      "/opt/conda/lib/python3.7/site-packages/pandas/core/generic.py:3812: PerformanceWarning: dropping on a non-lexsorted multi-index without a level parameter may impact performance.\n",
      "  new_axis = axis.drop(labels, errors=errors)\n",
      "/opt/conda/lib/python3.7/site-packages/numpy/lib/histograms.py:754: RuntimeWarning: invalid value encountered in greater_equal\n",
      "  keep = (tmp_a >= first_edge)\n",
      "/opt/conda/lib/python3.7/site-packages/numpy/lib/histograms.py:755: RuntimeWarning: invalid value encountered in less_equal\n",
      "  keep &= (tmp_a <= last_edge)\n",
      "/opt/conda/lib/python3.7/site-packages/pandas/core/generic.py:3812: PerformanceWarning: dropping on a non-lexsorted multi-index without a level parameter may impact performance.\n",
      "  new_axis = axis.drop(labels, errors=errors)\n"
     ]
    },
    {
     "name": "stdout",
     "output_type": "stream",
     "text": [
      "23W\n"
     ]
    },
    {
     "name": "stderr",
     "output_type": "stream",
     "text": [
      "/opt/conda/lib/python3.7/site-packages/scipy/interpolate/interpolate.py:688: RuntimeWarning: invalid value encountered in less\n",
      "  below_bounds = x_new < self.x[0]\n",
      "/opt/conda/lib/python3.7/site-packages/scipy/interpolate/interpolate.py:689: RuntimeWarning: invalid value encountered in greater\n",
      "  above_bounds = x_new > self.x[-1]\n",
      "/opt/conda/lib/python3.7/site-packages/pandas/core/generic.py:3812: PerformanceWarning: dropping on a non-lexsorted multi-index without a level parameter may impact performance.\n",
      "  new_axis = axis.drop(labels, errors=errors)\n",
      "/opt/conda/lib/python3.7/site-packages/pandas/core/generic.py:3812: PerformanceWarning: dropping on a non-lexsorted multi-index without a level parameter may impact performance.\n",
      "  new_axis = axis.drop(labels, errors=errors)\n"
     ]
    },
    {
     "name": "stdout",
     "output_type": "stream",
     "text": [
      "22E\n"
     ]
    },
    {
     "name": "stderr",
     "output_type": "stream",
     "text": [
      "/opt/conda/lib/python3.7/site-packages/scipy/interpolate/interpolate.py:688: RuntimeWarning: invalid value encountered in less\n",
      "  below_bounds = x_new < self.x[0]\n",
      "/opt/conda/lib/python3.7/site-packages/scipy/interpolate/interpolate.py:689: RuntimeWarning: invalid value encountered in greater\n",
      "  above_bounds = x_new > self.x[-1]\n",
      "/opt/conda/lib/python3.7/site-packages/pandas/core/generic.py:3812: PerformanceWarning: dropping on a non-lexsorted multi-index without a level parameter may impact performance.\n",
      "  new_axis = axis.drop(labels, errors=errors)\n",
      "/opt/conda/lib/python3.7/site-packages/numpy/lib/histograms.py:754: RuntimeWarning: invalid value encountered in greater_equal\n",
      "  keep = (tmp_a >= first_edge)\n",
      "/opt/conda/lib/python3.7/site-packages/numpy/lib/histograms.py:755: RuntimeWarning: invalid value encountered in less_equal\n",
      "  keep &= (tmp_a <= last_edge)\n",
      "/opt/conda/lib/python3.7/site-packages/pandas/core/generic.py:3812: PerformanceWarning: dropping on a non-lexsorted multi-index without a level parameter may impact performance.\n",
      "  new_axis = axis.drop(labels, errors=errors)\n"
     ]
    },
    {
     "name": "stdout",
     "output_type": "stream",
     "text": [
      "23E\n"
     ]
    },
    {
     "name": "stderr",
     "output_type": "stream",
     "text": [
      "/opt/conda/lib/python3.7/site-packages/scipy/interpolate/interpolate.py:688: RuntimeWarning: invalid value encountered in less\n",
      "  below_bounds = x_new < self.x[0]\n",
      "/opt/conda/lib/python3.7/site-packages/scipy/interpolate/interpolate.py:689: RuntimeWarning: invalid value encountered in greater\n",
      "  above_bounds = x_new > self.x[-1]\n",
      "/opt/conda/lib/python3.7/site-packages/pandas/core/generic.py:3812: PerformanceWarning: dropping on a non-lexsorted multi-index without a level parameter may impact performance.\n",
      "  new_axis = axis.drop(labels, errors=errors)\n",
      "/opt/conda/lib/python3.7/site-packages/numpy/lib/histograms.py:754: RuntimeWarning: invalid value encountered in greater_equal\n",
      "  keep = (tmp_a >= first_edge)\n",
      "/opt/conda/lib/python3.7/site-packages/numpy/lib/histograms.py:755: RuntimeWarning: invalid value encountered in less_equal\n",
      "  keep &= (tmp_a <= last_edge)\n",
      "/opt/conda/lib/python3.7/site-packages/pandas/core/generic.py:3812: PerformanceWarning: dropping on a non-lexsorted multi-index without a level parameter may impact performance.\n",
      "  new_axis = axis.drop(labels, errors=errors)\n"
     ]
    },
    {
     "name": "stdout",
     "output_type": "stream",
     "text": [
      "19N\n"
     ]
    },
    {
     "name": "stderr",
     "output_type": "stream",
     "text": [
      "/opt/conda/lib/python3.7/site-packages/scipy/interpolate/interpolate.py:688: RuntimeWarning: invalid value encountered in less\n",
      "  below_bounds = x_new < self.x[0]\n",
      "/opt/conda/lib/python3.7/site-packages/scipy/interpolate/interpolate.py:689: RuntimeWarning: invalid value encountered in greater\n",
      "  above_bounds = x_new > self.x[-1]\n",
      "/opt/conda/lib/python3.7/site-packages/pandas/core/generic.py:3812: PerformanceWarning: dropping on a non-lexsorted multi-index without a level parameter may impact performance.\n",
      "  new_axis = axis.drop(labels, errors=errors)\n",
      "/opt/conda/lib/python3.7/site-packages/numpy/lib/histograms.py:754: RuntimeWarning: invalid value encountered in greater_equal\n",
      "  keep = (tmp_a >= first_edge)\n",
      "/opt/conda/lib/python3.7/site-packages/numpy/lib/histograms.py:755: RuntimeWarning: invalid value encountered in less_equal\n",
      "  keep &= (tmp_a <= last_edge)\n",
      "/opt/conda/lib/python3.7/site-packages/pandas/core/generic.py:3812: PerformanceWarning: dropping on a non-lexsorted multi-index without a level parameter may impact performance.\n",
      "  new_axis = axis.drop(labels, errors=errors)\n"
     ]
    },
    {
     "name": "stdout",
     "output_type": "stream",
     "text": [
      "20NW\n"
     ]
    },
    {
     "name": "stderr",
     "output_type": "stream",
     "text": [
      "/opt/conda/lib/python3.7/site-packages/scipy/interpolate/interpolate.py:688: RuntimeWarning: invalid value encountered in less\n",
      "  below_bounds = x_new < self.x[0]\n",
      "/opt/conda/lib/python3.7/site-packages/scipy/interpolate/interpolate.py:689: RuntimeWarning: invalid value encountered in greater\n",
      "  above_bounds = x_new > self.x[-1]\n",
      "/opt/conda/lib/python3.7/site-packages/pandas/core/generic.py:3812: PerformanceWarning: dropping on a non-lexsorted multi-index without a level parameter may impact performance.\n",
      "  new_axis = axis.drop(labels, errors=errors)\n",
      "/opt/conda/lib/python3.7/site-packages/numpy/lib/histograms.py:754: RuntimeWarning: invalid value encountered in greater_equal\n",
      "  keep = (tmp_a >= first_edge)\n",
      "/opt/conda/lib/python3.7/site-packages/numpy/lib/histograms.py:755: RuntimeWarning: invalid value encountered in less_equal\n",
      "  keep &= (tmp_a <= last_edge)\n",
      "/opt/conda/lib/python3.7/site-packages/pandas/core/generic.py:3812: PerformanceWarning: dropping on a non-lexsorted multi-index without a level parameter may impact performance.\n",
      "  new_axis = axis.drop(labels, errors=errors)\n"
     ]
    },
    {
     "name": "stdout",
     "output_type": "stream",
     "text": [
      "24 Grazing\n",
      "24W\n"
     ]
    },
    {
     "name": "stderr",
     "output_type": "stream",
     "text": [
      "/opt/conda/lib/python3.7/site-packages/scipy/interpolate/interpolate.py:688: RuntimeWarning: invalid value encountered in less\n",
      "  below_bounds = x_new < self.x[0]\n",
      "/opt/conda/lib/python3.7/site-packages/scipy/interpolate/interpolate.py:689: RuntimeWarning: invalid value encountered in greater\n",
      "  above_bounds = x_new > self.x[-1]\n",
      "/opt/conda/lib/python3.7/site-packages/pandas/core/generic.py:3812: PerformanceWarning: dropping on a non-lexsorted multi-index without a level parameter may impact performance.\n",
      "  new_axis = axis.drop(labels, errors=errors)\n",
      "/opt/conda/lib/python3.7/site-packages/numpy/lib/histograms.py:754: RuntimeWarning: invalid value encountered in greater_equal\n",
      "  keep = (tmp_a >= first_edge)\n",
      "/opt/conda/lib/python3.7/site-packages/numpy/lib/histograms.py:755: RuntimeWarning: invalid value encountered in less_equal\n",
      "  keep &= (tmp_a <= last_edge)\n",
      "/opt/conda/lib/python3.7/site-packages/pandas/core/generic.py:3812: PerformanceWarning: dropping on a non-lexsorted multi-index without a level parameter may impact performance.\n",
      "  new_axis = axis.drop(labels, errors=errors)\n"
     ]
    },
    {
     "name": "stdout",
     "output_type": "stream",
     "text": [
      "24E\n"
     ]
    },
    {
     "name": "stderr",
     "output_type": "stream",
     "text": [
      "/opt/conda/lib/python3.7/site-packages/scipy/interpolate/interpolate.py:688: RuntimeWarning: invalid value encountered in less\n",
      "  below_bounds = x_new < self.x[0]\n",
      "/opt/conda/lib/python3.7/site-packages/scipy/interpolate/interpolate.py:689: RuntimeWarning: invalid value encountered in greater\n",
      "  above_bounds = x_new > self.x[-1]\n",
      "/opt/conda/lib/python3.7/site-packages/pandas/core/generic.py:3812: PerformanceWarning: dropping on a non-lexsorted multi-index without a level parameter may impact performance.\n",
      "  new_axis = axis.drop(labels, errors=errors)\n",
      "/opt/conda/lib/python3.7/site-packages/numpy/lib/histograms.py:754: RuntimeWarning: invalid value encountered in greater_equal\n",
      "  keep = (tmp_a >= first_edge)\n",
      "/opt/conda/lib/python3.7/site-packages/numpy/lib/histograms.py:755: RuntimeWarning: invalid value encountered in less_equal\n",
      "  keep &= (tmp_a <= last_edge)\n",
      "/opt/conda/lib/python3.7/site-packages/pandas/core/generic.py:3812: PerformanceWarning: dropping on a non-lexsorted multi-index without a level parameter may impact performance.\n",
      "  new_axis = axis.drop(labels, errors=errors)\n"
     ]
    },
    {
     "name": "stdout",
     "output_type": "stream",
     "text": [
      "19S\n"
     ]
    },
    {
     "name": "stderr",
     "output_type": "stream",
     "text": [
      "/opt/conda/lib/python3.7/site-packages/scipy/interpolate/interpolate.py:688: RuntimeWarning: invalid value encountered in less\n",
      "  below_bounds = x_new < self.x[0]\n",
      "/opt/conda/lib/python3.7/site-packages/scipy/interpolate/interpolate.py:689: RuntimeWarning: invalid value encountered in greater\n",
      "  above_bounds = x_new > self.x[-1]\n",
      "/opt/conda/lib/python3.7/site-packages/pandas/core/generic.py:3812: PerformanceWarning: dropping on a non-lexsorted multi-index without a level parameter may impact performance.\n",
      "  new_axis = axis.drop(labels, errors=errors)\n",
      "/opt/conda/lib/python3.7/site-packages/pandas/core/generic.py:3812: PerformanceWarning: dropping on a non-lexsorted multi-index without a level parameter may impact performance.\n",
      "  new_axis = axis.drop(labels, errors=errors)\n"
     ]
    },
    {
     "ename": "PermissionError",
     "evalue": "[Errno 13] Permission denied",
     "output_type": "error",
     "traceback": [
      "\u001b[0;31m---------------------------------------------------------------------------\u001b[0m",
      "\u001b[0;31mPermissionError\u001b[0m                           Traceback (most recent call last)",
      "\u001b[0;32m<ipython-input-218-0ca00fc21c71>\u001b[0m in \u001b[0;36m<module>\u001b[0;34m\u001b[0m\n\u001b[1;32m     78\u001b[0m         \u001b[0mdf_f3\u001b[0m\u001b[0;34m.\u001b[0m\u001b[0mloc\u001b[0m\u001b[0;34m[\u001b[0m\u001b[0;34m:\u001b[0m\u001b[0;34m,\u001b[0m\u001b[0;34m(\u001b[0m\u001b[0;36m0\u001b[0m\u001b[0;34m,\u001b[0m\u001b[0;34m'pasture_NDVI'\u001b[0m\u001b[0;34m)\u001b[0m\u001b[0;34m]\u001b[0m\u001b[0;34m=\u001b[0m\u001b[0mdf_f3\u001b[0m\u001b[0;34m[\u001b[0m\u001b[0;36m0\u001b[0m\u001b[0;34m]\u001b[0m\u001b[0;34m.\u001b[0m\u001b[0mpasture_NDVI\u001b[0m\u001b[0;34m/\u001b[0m\u001b[0;36m10000.\u001b[0m\u001b[0;34m\u001b[0m\u001b[0;34m\u001b[0m\u001b[0m\n\u001b[1;32m     79\u001b[0m \u001b[0;34m\u001b[0m\u001b[0m\n\u001b[0;32m---> 80\u001b[0;31m         \u001b[0mdf_f3\u001b[0m\u001b[0;34m.\u001b[0m\u001b[0mto_excel\u001b[0m\u001b[0;34m(\u001b[0m\u001b[0mp\u001b[0m\u001b[0;34m+\u001b[0m\u001b[0;34m'_MODIS_Pasture_Interpolated_NDVI_APAR_V4.xlsx'\u001b[0m\u001b[0;34m)\u001b[0m\u001b[0;34m\u001b[0m\u001b[0;34m\u001b[0m\u001b[0m\n\u001b[0m\u001b[1;32m     81\u001b[0m         \u001b[0;32mdel\u001b[0m\u001b[0;34m(\u001b[0m\u001b[0mdf_interp1\u001b[0m\u001b[0;34m)\u001b[0m\u001b[0;34m\u001b[0m\u001b[0;34m\u001b[0m\u001b[0m\n\u001b[1;32m     82\u001b[0m         \u001b[0;32mdel\u001b[0m\u001b[0;34m(\u001b[0m\u001b[0mdf_temp2\u001b[0m\u001b[0;34m)\u001b[0m\u001b[0;34m\u001b[0m\u001b[0;34m\u001b[0m\u001b[0m\n",
      "\u001b[0;32m/opt/conda/lib/python3.7/site-packages/pandas/core/generic.py\u001b[0m in \u001b[0;36mto_excel\u001b[0;34m(self, excel_writer, sheet_name, na_rep, float_format, columns, header, index, index_label, startrow, startcol, engine, merge_cells, encoding, inf_rep, verbose, freeze_panes)\u001b[0m\n\u001b[1;32m   2125\u001b[0m         formatter.write(excel_writer, sheet_name=sheet_name, startrow=startrow,\n\u001b[1;32m   2126\u001b[0m                         \u001b[0mstartcol\u001b[0m\u001b[0;34m=\u001b[0m\u001b[0mstartcol\u001b[0m\u001b[0;34m,\u001b[0m \u001b[0mfreeze_panes\u001b[0m\u001b[0;34m=\u001b[0m\u001b[0mfreeze_panes\u001b[0m\u001b[0;34m,\u001b[0m\u001b[0;34m\u001b[0m\u001b[0;34m\u001b[0m\u001b[0m\n\u001b[0;32m-> 2127\u001b[0;31m                         engine=engine)\n\u001b[0m\u001b[1;32m   2128\u001b[0m \u001b[0;34m\u001b[0m\u001b[0m\n\u001b[1;32m   2129\u001b[0m     def to_json(self, path_or_buf=None, orient=None, date_format=None,\n",
      "\u001b[0;32m/opt/conda/lib/python3.7/site-packages/pandas/io/formats/excel.py\u001b[0m in \u001b[0;36mwrite\u001b[0;34m(self, writer, sheet_name, startrow, startcol, freeze_panes, engine)\u001b[0m\n\u001b[1;32m    662\u001b[0m                            freeze_panes=freeze_panes)\n\u001b[1;32m    663\u001b[0m         \u001b[0;32mif\u001b[0m \u001b[0mneed_save\u001b[0m\u001b[0;34m:\u001b[0m\u001b[0;34m\u001b[0m\u001b[0;34m\u001b[0m\u001b[0m\n\u001b[0;32m--> 664\u001b[0;31m             \u001b[0mwriter\u001b[0m\u001b[0;34m.\u001b[0m\u001b[0msave\u001b[0m\u001b[0;34m(\u001b[0m\u001b[0;34m)\u001b[0m\u001b[0;34m\u001b[0m\u001b[0;34m\u001b[0m\u001b[0m\n\u001b[0m",
      "\u001b[0;32m/opt/conda/lib/python3.7/site-packages/pandas/io/excel.py\u001b[0m in \u001b[0;36msave\u001b[0;34m(self)\u001b[0m\n\u001b[1;32m   1226\u001b[0m         \u001b[0mSave\u001b[0m \u001b[0mworkbook\u001b[0m \u001b[0mto\u001b[0m \u001b[0mdisk\u001b[0m\u001b[0;34m.\u001b[0m\u001b[0;34m\u001b[0m\u001b[0;34m\u001b[0m\u001b[0m\n\u001b[1;32m   1227\u001b[0m         \"\"\"\n\u001b[0;32m-> 1228\u001b[0;31m         \u001b[0;32mreturn\u001b[0m \u001b[0mself\u001b[0m\u001b[0;34m.\u001b[0m\u001b[0mbook\u001b[0m\u001b[0;34m.\u001b[0m\u001b[0msave\u001b[0m\u001b[0;34m(\u001b[0m\u001b[0mself\u001b[0m\u001b[0;34m.\u001b[0m\u001b[0mpath\u001b[0m\u001b[0;34m)\u001b[0m\u001b[0;34m\u001b[0m\u001b[0;34m\u001b[0m\u001b[0m\n\u001b[0m\u001b[1;32m   1229\u001b[0m \u001b[0;34m\u001b[0m\u001b[0m\n\u001b[1;32m   1230\u001b[0m     \u001b[0;34m@\u001b[0m\u001b[0mclassmethod\u001b[0m\u001b[0;34m\u001b[0m\u001b[0;34m\u001b[0m\u001b[0m\n",
      "\u001b[0;32m/opt/conda/lib/python3.7/site-packages/openpyxl/workbook/workbook.py\u001b[0m in \u001b[0;36msave\u001b[0;34m(self, filename)\u001b[0m\n\u001b[1;32m    395\u001b[0m         \u001b[0;32mif\u001b[0m \u001b[0mself\u001b[0m\u001b[0;34m.\u001b[0m\u001b[0mwrite_only\u001b[0m \u001b[0;32mand\u001b[0m \u001b[0;32mnot\u001b[0m \u001b[0mself\u001b[0m\u001b[0;34m.\u001b[0m\u001b[0mworksheets\u001b[0m\u001b[0;34m:\u001b[0m\u001b[0;34m\u001b[0m\u001b[0;34m\u001b[0m\u001b[0m\n\u001b[1;32m    396\u001b[0m             \u001b[0mself\u001b[0m\u001b[0;34m.\u001b[0m\u001b[0mcreate_sheet\u001b[0m\u001b[0;34m(\u001b[0m\u001b[0;34m)\u001b[0m\u001b[0;34m\u001b[0m\u001b[0;34m\u001b[0m\u001b[0m\n\u001b[0;32m--> 397\u001b[0;31m         \u001b[0msave_workbook\u001b[0m\u001b[0;34m(\u001b[0m\u001b[0mself\u001b[0m\u001b[0;34m,\u001b[0m \u001b[0mfilename\u001b[0m\u001b[0;34m)\u001b[0m\u001b[0;34m\u001b[0m\u001b[0;34m\u001b[0m\u001b[0m\n\u001b[0m\u001b[1;32m    398\u001b[0m \u001b[0;34m\u001b[0m\u001b[0m\n\u001b[1;32m    399\u001b[0m \u001b[0;34m\u001b[0m\u001b[0m\n",
      "\u001b[0;32m/opt/conda/lib/python3.7/site-packages/openpyxl/writer/excel.py\u001b[0m in \u001b[0;36msave_workbook\u001b[0;34m(workbook, filename)\u001b[0m\n\u001b[1;32m    292\u001b[0m     \u001b[0marchive\u001b[0m \u001b[0;34m=\u001b[0m \u001b[0mZipFile\u001b[0m\u001b[0;34m(\u001b[0m\u001b[0mfilename\u001b[0m\u001b[0;34m,\u001b[0m \u001b[0;34m'w'\u001b[0m\u001b[0;34m,\u001b[0m \u001b[0mZIP_DEFLATED\u001b[0m\u001b[0;34m,\u001b[0m \u001b[0mallowZip64\u001b[0m\u001b[0;34m=\u001b[0m\u001b[0;32mTrue\u001b[0m\u001b[0;34m)\u001b[0m\u001b[0;34m\u001b[0m\u001b[0;34m\u001b[0m\u001b[0m\n\u001b[1;32m    293\u001b[0m     \u001b[0mwriter\u001b[0m \u001b[0;34m=\u001b[0m \u001b[0mExcelWriter\u001b[0m\u001b[0;34m(\u001b[0m\u001b[0mworkbook\u001b[0m\u001b[0;34m,\u001b[0m \u001b[0marchive\u001b[0m\u001b[0;34m)\u001b[0m\u001b[0;34m\u001b[0m\u001b[0;34m\u001b[0m\u001b[0m\n\u001b[0;32m--> 294\u001b[0;31m     \u001b[0mwriter\u001b[0m\u001b[0;34m.\u001b[0m\u001b[0msave\u001b[0m\u001b[0;34m(\u001b[0m\u001b[0;34m)\u001b[0m\u001b[0;34m\u001b[0m\u001b[0;34m\u001b[0m\u001b[0m\n\u001b[0m\u001b[1;32m    295\u001b[0m     \u001b[0;32mreturn\u001b[0m \u001b[0;32mTrue\u001b[0m\u001b[0;34m\u001b[0m\u001b[0;34m\u001b[0m\u001b[0m\n\u001b[1;32m    296\u001b[0m \u001b[0;34m\u001b[0m\u001b[0m\n",
      "\u001b[0;32m/opt/conda/lib/python3.7/site-packages/openpyxl/writer/excel.py\u001b[0m in \u001b[0;36msave\u001b[0;34m(self)\u001b[0m\n\u001b[1;32m    274\u001b[0m     \u001b[0;32mdef\u001b[0m \u001b[0msave\u001b[0m\u001b[0;34m(\u001b[0m\u001b[0mself\u001b[0m\u001b[0;34m)\u001b[0m\u001b[0;34m:\u001b[0m\u001b[0;34m\u001b[0m\u001b[0;34m\u001b[0m\u001b[0m\n\u001b[1;32m    275\u001b[0m         \u001b[0;34m\"\"\"Write data into the archive.\"\"\"\u001b[0m\u001b[0;34m\u001b[0m\u001b[0;34m\u001b[0m\u001b[0m\n\u001b[0;32m--> 276\u001b[0;31m         \u001b[0mself\u001b[0m\u001b[0;34m.\u001b[0m\u001b[0mwrite_data\u001b[0m\u001b[0;34m(\u001b[0m\u001b[0;34m)\u001b[0m\u001b[0;34m\u001b[0m\u001b[0;34m\u001b[0m\u001b[0m\n\u001b[0m\u001b[1;32m    277\u001b[0m         \u001b[0mself\u001b[0m\u001b[0;34m.\u001b[0m\u001b[0m_archive\u001b[0m\u001b[0;34m.\u001b[0m\u001b[0mclose\u001b[0m\u001b[0;34m(\u001b[0m\u001b[0;34m)\u001b[0m\u001b[0;34m\u001b[0m\u001b[0;34m\u001b[0m\u001b[0m\n\u001b[1;32m    278\u001b[0m \u001b[0;34m\u001b[0m\u001b[0m\n",
      "\u001b[0;32m/opt/conda/lib/python3.7/site-packages/openpyxl/writer/excel.py\u001b[0m in \u001b[0;36mwrite_data\u001b[0;34m(self)\u001b[0m\n\u001b[1;32m     66\u001b[0m \u001b[0;34m\u001b[0m\u001b[0m\n\u001b[1;32m     67\u001b[0m         \u001b[0mprops\u001b[0m \u001b[0;34m=\u001b[0m \u001b[0mExtendedProperties\u001b[0m\u001b[0;34m(\u001b[0m\u001b[0;34m)\u001b[0m\u001b[0;34m\u001b[0m\u001b[0;34m\u001b[0m\u001b[0m\n\u001b[0;32m---> 68\u001b[0;31m         \u001b[0marchive\u001b[0m\u001b[0;34m.\u001b[0m\u001b[0mwritestr\u001b[0m\u001b[0;34m(\u001b[0m\u001b[0mARC_APP\u001b[0m\u001b[0;34m,\u001b[0m \u001b[0mtostring\u001b[0m\u001b[0;34m(\u001b[0m\u001b[0mprops\u001b[0m\u001b[0;34m.\u001b[0m\u001b[0mto_tree\u001b[0m\u001b[0;34m(\u001b[0m\u001b[0;34m)\u001b[0m\u001b[0;34m)\u001b[0m\u001b[0;34m)\u001b[0m\u001b[0;34m\u001b[0m\u001b[0;34m\u001b[0m\u001b[0m\n\u001b[0m\u001b[1;32m     69\u001b[0m \u001b[0;34m\u001b[0m\u001b[0m\n\u001b[1;32m     70\u001b[0m         \u001b[0marchive\u001b[0m\u001b[0;34m.\u001b[0m\u001b[0mwritestr\u001b[0m\u001b[0;34m(\u001b[0m\u001b[0mARC_CORE\u001b[0m\u001b[0;34m,\u001b[0m \u001b[0mtostring\u001b[0m\u001b[0;34m(\u001b[0m\u001b[0mself\u001b[0m\u001b[0;34m.\u001b[0m\u001b[0mworkbook\u001b[0m\u001b[0;34m.\u001b[0m\u001b[0mproperties\u001b[0m\u001b[0;34m.\u001b[0m\u001b[0mto_tree\u001b[0m\u001b[0;34m(\u001b[0m\u001b[0;34m)\u001b[0m\u001b[0;34m)\u001b[0m\u001b[0;34m)\u001b[0m\u001b[0;34m\u001b[0m\u001b[0;34m\u001b[0m\u001b[0m\n",
      "\u001b[0;32m/opt/conda/lib/python3.7/zipfile.py\u001b[0m in \u001b[0;36mwritestr\u001b[0;34m(self, zinfo_or_arcname, data, compress_type, compresslevel)\u001b[0m\n\u001b[1;32m   1783\u001b[0m         \u001b[0;32mwith\u001b[0m \u001b[0mself\u001b[0m\u001b[0;34m.\u001b[0m\u001b[0m_lock\u001b[0m\u001b[0;34m:\u001b[0m\u001b[0;34m\u001b[0m\u001b[0;34m\u001b[0m\u001b[0m\n\u001b[1;32m   1784\u001b[0m             \u001b[0;32mwith\u001b[0m \u001b[0mself\u001b[0m\u001b[0;34m.\u001b[0m\u001b[0mopen\u001b[0m\u001b[0;34m(\u001b[0m\u001b[0mzinfo\u001b[0m\u001b[0;34m,\u001b[0m \u001b[0mmode\u001b[0m\u001b[0;34m=\u001b[0m\u001b[0;34m'w'\u001b[0m\u001b[0;34m)\u001b[0m \u001b[0;32mas\u001b[0m \u001b[0mdest\u001b[0m\u001b[0;34m:\u001b[0m\u001b[0;34m\u001b[0m\u001b[0;34m\u001b[0m\u001b[0m\n\u001b[0;32m-> 1785\u001b[0;31m                 \u001b[0mdest\u001b[0m\u001b[0;34m.\u001b[0m\u001b[0mwrite\u001b[0m\u001b[0;34m(\u001b[0m\u001b[0mdata\u001b[0m\u001b[0;34m)\u001b[0m\u001b[0;34m\u001b[0m\u001b[0;34m\u001b[0m\u001b[0m\n\u001b[0m\u001b[1;32m   1786\u001b[0m \u001b[0;34m\u001b[0m\u001b[0m\n\u001b[1;32m   1787\u001b[0m     \u001b[0;32mdef\u001b[0m \u001b[0m__del__\u001b[0m\u001b[0;34m(\u001b[0m\u001b[0mself\u001b[0m\u001b[0;34m)\u001b[0m\u001b[0;34m:\u001b[0m\u001b[0;34m\u001b[0m\u001b[0;34m\u001b[0m\u001b[0m\n",
      "\u001b[0;32m/opt/conda/lib/python3.7/zipfile.py\u001b[0m in \u001b[0;36mclose\u001b[0;34m(self)\u001b[0m\n\u001b[1;32m   1134\u001b[0m             \u001b[0;31m# Preserve current position in file\u001b[0m\u001b[0;34m\u001b[0m\u001b[0;34m\u001b[0m\u001b[0;34m\u001b[0m\u001b[0m\n\u001b[1;32m   1135\u001b[0m             \u001b[0mself\u001b[0m\u001b[0;34m.\u001b[0m\u001b[0m_zipfile\u001b[0m\u001b[0;34m.\u001b[0m\u001b[0mstart_dir\u001b[0m \u001b[0;34m=\u001b[0m \u001b[0mself\u001b[0m\u001b[0;34m.\u001b[0m\u001b[0m_fileobj\u001b[0m\u001b[0;34m.\u001b[0m\u001b[0mtell\u001b[0m\u001b[0;34m(\u001b[0m\u001b[0;34m)\u001b[0m\u001b[0;34m\u001b[0m\u001b[0;34m\u001b[0m\u001b[0m\n\u001b[0;32m-> 1136\u001b[0;31m             \u001b[0mself\u001b[0m\u001b[0;34m.\u001b[0m\u001b[0m_fileobj\u001b[0m\u001b[0;34m.\u001b[0m\u001b[0mseek\u001b[0m\u001b[0;34m(\u001b[0m\u001b[0mself\u001b[0m\u001b[0;34m.\u001b[0m\u001b[0m_zinfo\u001b[0m\u001b[0;34m.\u001b[0m\u001b[0mheader_offset\u001b[0m\u001b[0;34m)\u001b[0m\u001b[0;34m\u001b[0m\u001b[0;34m\u001b[0m\u001b[0m\n\u001b[0m\u001b[1;32m   1137\u001b[0m             \u001b[0mself\u001b[0m\u001b[0;34m.\u001b[0m\u001b[0m_fileobj\u001b[0m\u001b[0;34m.\u001b[0m\u001b[0mwrite\u001b[0m\u001b[0;34m(\u001b[0m\u001b[0mself\u001b[0m\u001b[0;34m.\u001b[0m\u001b[0m_zinfo\u001b[0m\u001b[0;34m.\u001b[0m\u001b[0mFileHeader\u001b[0m\u001b[0;34m(\u001b[0m\u001b[0mself\u001b[0m\u001b[0;34m.\u001b[0m\u001b[0m_zip64\u001b[0m\u001b[0;34m)\u001b[0m\u001b[0;34m)\u001b[0m\u001b[0;34m\u001b[0m\u001b[0;34m\u001b[0m\u001b[0m\n\u001b[1;32m   1138\u001b[0m             \u001b[0mself\u001b[0m\u001b[0;34m.\u001b[0m\u001b[0m_fileobj\u001b[0m\u001b[0;34m.\u001b[0m\u001b[0mseek\u001b[0m\u001b[0;34m(\u001b[0m\u001b[0mself\u001b[0m\u001b[0;34m.\u001b[0m\u001b[0m_zipfile\u001b[0m\u001b[0;34m.\u001b[0m\u001b[0mstart_dir\u001b[0m\u001b[0;34m)\u001b[0m\u001b[0;34m\u001b[0m\u001b[0;34m\u001b[0m\u001b[0m\n",
      "\u001b[0;31mPermissionError\u001b[0m: [Errno 13] Permission denied"
     ]
    },
    {
     "data": {
      "text/plain": [
       "<Figure size 432x288 with 0 Axes>"
      ]
     },
     "metadata": {},
     "output_type": "display_data"
    }
   ],
   "source": [
    "olap_thresh = 0.2\n",
    "for p in df_raw.reset_index().past_name_.unique():\n",
    "    print(p)\n",
    "    df_temp2 = df_raw.reset_index()[df_raw.reset_index().past_name_== p].copy()\n",
    "    df_temp2.dropna(axis=1,how='all',inplace=True)\n",
    "    df_temp2 = df_temp2.reset_index()\n",
    "    df_temp2['m_date'] = pd.to_datetime(df_temp2.yr*1000+df_temp2.doy,format='%Y%j')\n",
    "    df_temp2.sort_values(by='m_date',inplace=True)\n",
    "    df_temp2.set_index('m_date',inplace=True)\n",
    "    g_columns=[]\n",
    "    for x in df_temp2.columns.get_level_values(0).unique():\n",
    "        if df_temp2[x].size > 0:\n",
    "            g_columns.append(x)\n",
    "#     df_temp2=df_temp2[g_columns].copy()\n",
    "    \n",
    "    \n",
    "    df_interp1 = pd.DataFrame()\n",
    "    df_interp1 = df_temp2.resample('D').interpolate()\n",
    "    \n",
    "    if np.nanmax(df_interp1.swaplevel(axis=1).pix_overlap.values.flatten())>.2:\n",
    "\n",
    "        # Join PAR data #\n",
    "\n",
    "        df_interp1 = df_interp1.merge(df_PAR[['CPER']],left_index=True,right_index=True,how='outer')\n",
    "        #     #Rename ndvi to apar\n",
    "        #     df_interp1 = df_interp1.rename(columns=rename_ndvi_apar)\n",
    "\n",
    "        #convert ndvi to APAR\n",
    "        for x in df_interp1.columns:\n",
    "            if type(x[0])==int:\n",
    "                df_interp1.loc[:,(x[0],'apar')] = f_fpar(df_interp1[x[0]].ndvi)*df_interp1.CPER.rad\n",
    "\n",
    "        df_interp1['past_name_']=p\n",
    "\n",
    "\n",
    "        #Calculate effective values\n",
    "        tot_perc_pasture=0\n",
    "        for x in g_columns:\n",
    "            if type(x)==int:\n",
    "                if np.nanmax(df_interp1[x].pix_overlap.unique())>olap_thresh:\n",
    "                    df_interp1.loc[:,(x,'eff_ndvi')] = df_interp1[x].ndvi*df_interp1[x].perc_pasture\n",
    "                    df_interp1.loc[:,(x,'eff_apar')] = df_interp1[x].apar*df_interp1[x].perc_pasture\n",
    "                    tot_perc_pasture = tot_perc_pasture+np.nanmin(df_interp1[x].perc_pasture.unique())\n",
    "                else:\n",
    "                    df_interp1.loc[:,(x,'eff_ndvi')] = 0.\n",
    "                    df_interp1.loc[:,(x,'eff_apar')] = 0.\n",
    "\n",
    "        df_interp1 = df_interp1.reset_index().drop(columns=['filename','index']).set_index(['m_date','yr','doy','past_name_']).groupby(axis=1,level=['pix_id',1]).mean()\n",
    "\n",
    "        df_past_ndvi_temp = pd.DataFrame(df_interp1.swaplevel(axis=1).eff_ndvi.sum(axis=1)[df_interp1.swaplevel(axis=1).eff_ndvi.count(axis=1)==pd.notnull(df_interp1.swaplevel(axis=1).eff_ndvi).sum(axis=1).max()],columns=['pasture_NDVI'])\n",
    "        df_past_apar_temp = pd.DataFrame(df_interp1.swaplevel(axis=1).eff_apar.sum(axis=1)[df_interp1.swaplevel(axis=1).eff_apar.count(axis=1)==pd.notnull(df_interp1.swaplevel(axis=1).eff_apar).sum(axis=1).max()],columns=['pasture_APAR'])\n",
    "        d = {0:df_past_ndvi_temp}\n",
    "        d2 = {0:df_past_apar_temp}\n",
    "        df_past_ndvi = pd.concat(d,axis=1)\n",
    "        df_past_apar = pd.concat(d2,axis=1)\n",
    "\n",
    "        df_past_ndvi[0,'pasture_NDVI'] = df_past_ndvi[0,'pasture_NDVI'] * (1. / tot_perc_pasture)\n",
    "        df_past_apar[0,'pasture_APAR'] = df_past_apar[0,'pasture_APAR'] * (1. / tot_perc_pasture)\n",
    "\n",
    "\n",
    "\n",
    "        df_f = df_interp1.merge(df_past_ndvi,how='left',left_index=True,right_index=True).merge(df_past_apar,how='left',left_index=True,right_index=True).sort_values(axis=0,by=['past_name_','yr','doy']).reset_index()#.sort_values(axis=1,by='pix_id').reset_index()\n",
    "        pheno_info = pd.DataFrame(delayed_moving_ave(df_f.reset_index().set_index('m_date')[0,'pasture_NDVI'].reset_index())).T\n",
    "        pheno_info.columns = pd.MultiIndex.from_tuples([(['Pasture','EOS']),(['Pasture','SOS'])])\n",
    "        df_f2 = df_f.merge(pheno_info,how='left',left_on=df_f.m_date.dt.year,right_on=pheno_info.index)\n",
    "\n",
    "        d_t = df_f2.reset_index().set_index('m_date')[[0,'Pasture']]\n",
    "        d_t.columns = d_t.columns.droplevel()\n",
    "        df_int = int_ndvi(d_t,'ndvi',p).reset_index()\n",
    "        df_int.columns = pd.MultiIndex.from_tuples([(['m_date','']),(['doy','']),(['Pasture','NDVI_I'])])\n",
    "\n",
    "        d_t_apar = df_f2.reset_index().set_index('m_date')[[0,'Pasture']]\n",
    "        d_t_apar.columns = d_t_apar.columns.droplevel()\n",
    "        df_int_apar = int_ndvi(d_t_apar[d_t_apar.index.year>2003],'apar',p).reset_index()\n",
    "        df_int_apar.columns = pd.MultiIndex.from_tuples([(['m_date','']),(['doy','']),(['Pasture','APAR_I'])])\n",
    "\n",
    "        df_f3 = df_f2.merge(df_int,how='left',left_on='m_date',right_on='m_date').merge(df_int_apar,how='left',left_on='m_date',right_on='m_date')\n",
    "        df_f3.loc[:,(0,'pasture_NDVI')]=df_f3[0].pasture_NDVI/10000.\n",
    "\n",
    "        df_f3.to_excel(p+'_MODIS_Pasture_Interpolated_NDVI_APAR_V4.xlsx')\n",
    "        del(df_interp1)\n",
    "        del(df_temp2)\n",
    "        del(df_f)\n",
    "        del(pheno_info)\n",
    "        del(df_f2)\n",
    "        del(df_f3)\n",
    "        del(df_int)\n",
    "        gc.collect()\n",
    "\n",
    "# df_interp['m_date'] = pd.to_datetime(df_interp.yr*1000+df_interp.doy,format='%Y%j')\n",
    "# df_interp = df_interp.set_index('m_date')\n",
    "# #df_interp.resample('D').interpolate()\n",
    "# #df_interp.columns = df_interp.columns.map('{0[0]}|{0[1]}'.format) \n",
    "# #df_interp[df_interp.index == '2014-01-02']\n"
   ]
  },
  {
   "cell_type": "code",
   "execution_count": null,
   "metadata": {},
   "outputs": [],
   "source": []
  },
  {
   "cell_type": "code",
   "execution_count": 196,
   "metadata": {},
   "outputs": [
    {
     "data": {
      "text/plain": [
       "1.0"
      ]
     },
     "execution_count": 196,
     "metadata": {},
     "output_type": "execute_result"
    }
   ],
   "source": [
    "np.nanmax(df_interp1.swaplevel(axis=1).pix_overlap.values.flatten())"
   ]
  },
  {
   "cell_type": "code",
   "execution_count": 190,
   "metadata": {},
   "outputs": [
    {
     "data": {
      "text/plain": [
       "True"
      ]
     },
     "execution_count": 190,
     "metadata": {},
     "output_type": "execute_result"
    }
   ],
   "source": [
    "df_interp1.swaplevel(axis=1).pix_overlap.values.flatten().max()>.2"
   ]
  },
  {
   "cell_type": "code",
   "execution_count": 29,
   "metadata": {},
   "outputs": [],
   "source": [
    "df_test = df_interp1.merge(df_past_ndvi,how='left',left_index=True,right_index=True).sort_values(axis=0,by=['past_name_','yr','doy']).sort_values(axis=1,by='pix_id')"
   ]
  },
  {
   "cell_type": "code",
   "execution_count": 20,
   "metadata": {},
   "outputs": [
    {
     "name": "stderr",
     "output_type": "stream",
     "text": [
      "/opt/conda/lib/python3.6/site-packages/scipy/signal/_arraytools.py:45: FutureWarning: Using a non-tuple sequence for multidimensional indexing is deprecated; use `arr[tuple(seq)]` instead of `arr[seq]`. In the future this will be interpreted as an array index, `arr[np.array(seq)]`, which will result either in an error or a different result.\n",
      "  b = a[a_slice]\n"
     ]
    },
    {
     "name": "stdout",
     "output_type": "stream",
     "text": [
      "Redoing SOS for year 2001\n",
      "Redoing SOS for year 2005\n",
      "Redoing SOS for year 2006\n",
      "Redoing EOS for year 2007\n",
      "Redoing EOS for year 2008\n",
      "Redoing SOS for year 2011\n",
      "Redoing SOS for year 2012\n",
      "Redoing EOS for year 2012\n",
      "Redoing SOS for year 2013\n",
      "Redoing EOS for year 2016\n",
      "Redoing EOS for year 2017\n",
      "Redoing SOS for year 2018\n",
      "Redoing EOS for year 2018\n",
      "[2001]\n",
      "[2002]\n",
      "[2004 2005]\n"
     ]
    },
    {
     "ename": "ValueError",
     "evalue": "The truth value of an array with more than one element is ambiguous. Use a.any() or a.all()",
     "output_type": "error",
     "traceback": [
      "\u001b[0;31m---------------------------------------------------------------------------\u001b[0m",
      "\u001b[0;31mValueError\u001b[0m                                Traceback (most recent call last)",
      "\u001b[0;32m<ipython-input-20-a39f4fd00d57>\u001b[0m in \u001b[0;36m<module>\u001b[0;34m\u001b[0m\n\u001b[1;32m      6\u001b[0m \u001b[0md_t\u001b[0m \u001b[0;34m=\u001b[0m \u001b[0mdf_f3\u001b[0m\u001b[0;34m.\u001b[0m\u001b[0mreset_index\u001b[0m\u001b[0;34m(\u001b[0m\u001b[0;34m)\u001b[0m\u001b[0;34m.\u001b[0m\u001b[0mset_index\u001b[0m\u001b[0;34m(\u001b[0m\u001b[0;34m'm_date'\u001b[0m\u001b[0;34m)\u001b[0m\u001b[0;34m[\u001b[0m\u001b[0;34m[\u001b[0m\u001b[0;36m0\u001b[0m\u001b[0;34m,\u001b[0m\u001b[0;34m'Pasture'\u001b[0m\u001b[0;34m]\u001b[0m\u001b[0;34m]\u001b[0m\u001b[0;34m\u001b[0m\u001b[0m\n\u001b[1;32m      7\u001b[0m \u001b[0md_t\u001b[0m\u001b[0;34m.\u001b[0m\u001b[0mcolumns\u001b[0m \u001b[0;34m=\u001b[0m \u001b[0md_t\u001b[0m\u001b[0;34m.\u001b[0m\u001b[0mcolumns\u001b[0m\u001b[0;34m.\u001b[0m\u001b[0mdroplevel\u001b[0m\u001b[0;34m(\u001b[0m\u001b[0;34m)\u001b[0m\u001b[0;34m\u001b[0m\u001b[0m\n\u001b[0;32m----> 8\u001b[0;31m \u001b[0mdf_int\u001b[0m \u001b[0;34m=\u001b[0m \u001b[0mint_ndvi\u001b[0m\u001b[0;34m(\u001b[0m\u001b[0md_t\u001b[0m\u001b[0;34m)\u001b[0m\u001b[0;34m.\u001b[0m\u001b[0mreset_index\u001b[0m\u001b[0;34m(\u001b[0m\u001b[0;34m)\u001b[0m\u001b[0;34m\u001b[0m\u001b[0m\n\u001b[0m\u001b[1;32m      9\u001b[0m \u001b[0mdf_int\u001b[0m\u001b[0;34m.\u001b[0m\u001b[0mcolumns\u001b[0m \u001b[0;34m=\u001b[0m \u001b[0mpd\u001b[0m\u001b[0;34m.\u001b[0m\u001b[0mMultiIndex\u001b[0m\u001b[0;34m.\u001b[0m\u001b[0mfrom_tuples\u001b[0m\u001b[0;34m(\u001b[0m\u001b[0;34m[\u001b[0m\u001b[0;34m(\u001b[0m\u001b[0;34m[\u001b[0m\u001b[0;34m'm_date'\u001b[0m\u001b[0;34m,\u001b[0m\u001b[0;34m''\u001b[0m\u001b[0;34m]\u001b[0m\u001b[0;34m)\u001b[0m\u001b[0;34m,\u001b[0m\u001b[0;34m(\u001b[0m\u001b[0;34m[\u001b[0m\u001b[0;34m'doy'\u001b[0m\u001b[0;34m,\u001b[0m\u001b[0;34m''\u001b[0m\u001b[0;34m]\u001b[0m\u001b[0;34m)\u001b[0m\u001b[0;34m,\u001b[0m\u001b[0;34m(\u001b[0m\u001b[0;34m[\u001b[0m\u001b[0;34m'Pasture'\u001b[0m\u001b[0;34m,\u001b[0m\u001b[0;34m'NDVI_I'\u001b[0m\u001b[0;34m]\u001b[0m\u001b[0;34m)\u001b[0m\u001b[0;34m]\u001b[0m\u001b[0;34m)\u001b[0m\u001b[0;34m\u001b[0m\u001b[0m\n\u001b[1;32m     10\u001b[0m \u001b[0mdf_f4\u001b[0m \u001b[0;34m=\u001b[0m \u001b[0mdf_f3\u001b[0m\u001b[0;34m.\u001b[0m\u001b[0mmerge\u001b[0m\u001b[0;34m(\u001b[0m\u001b[0mdf_int\u001b[0m\u001b[0;34m,\u001b[0m\u001b[0mhow\u001b[0m\u001b[0;34m=\u001b[0m\u001b[0;34m'left'\u001b[0m\u001b[0;34m,\u001b[0m\u001b[0mleft_on\u001b[0m\u001b[0;34m=\u001b[0m\u001b[0;34m'm_date'\u001b[0m\u001b[0;34m,\u001b[0m\u001b[0mright_on\u001b[0m\u001b[0;34m=\u001b[0m\u001b[0;34m'm_date'\u001b[0m\u001b[0;34m)\u001b[0m\u001b[0;34m\u001b[0m\u001b[0m\n",
      "\u001b[0;32m<ipython-input-9-065bb23b7659>\u001b[0m in \u001b[0;36mint_ndvi\u001b[0;34m(ts_all)\u001b[0m\n\u001b[1;32m     27\u001b[0m         \u001b[0mndvi_i_vals\u001b[0m \u001b[0;34m=\u001b[0m \u001b[0mintegrate\u001b[0m\u001b[0;34m.\u001b[0m\u001b[0mcumtrapz\u001b[0m\u001b[0;34m(\u001b[0m\u001b[0mx\u001b[0m\u001b[0;34m=\u001b[0m\u001b[0mnp\u001b[0m\u001b[0;34m.\u001b[0m\u001b[0marange\u001b[0m\u001b[0;34m(\u001b[0m\u001b[0mnum_days\u001b[0m\u001b[0;34m+\u001b[0m\u001b[0;36m1\u001b[0m\u001b[0;34m,\u001b[0m\u001b[0mdtype\u001b[0m\u001b[0;34m=\u001b[0m\u001b[0mfloat\u001b[0m\u001b[0;34m)\u001b[0m\u001b[0;34m+\u001b[0m\u001b[0;36m1\u001b[0m\u001b[0;34m,\u001b[0m\u001b[0my\u001b[0m\u001b[0;34m=\u001b[0m\u001b[0mts\u001b[0m\u001b[0;34m[\u001b[0m\u001b[0;34m(\u001b[0m\u001b[0mts\u001b[0m\u001b[0;34m.\u001b[0m\u001b[0mm_date\u001b[0m\u001b[0;34m>=\u001b[0m\u001b[0mts\u001b[0m\u001b[0;34m[\u001b[0m\u001b[0mts\u001b[0m\u001b[0;34m.\u001b[0m\u001b[0mm_date\u001b[0m\u001b[0;34m.\u001b[0m\u001b[0mdt\u001b[0m\u001b[0;34m.\u001b[0m\u001b[0myear\u001b[0m\u001b[0;34m==\u001b[0m\u001b[0my\u001b[0m\u001b[0;34m]\u001b[0m\u001b[0;34m.\u001b[0m\u001b[0mSOS\u001b[0m\u001b[0;34m.\u001b[0m\u001b[0munique\u001b[0m\u001b[0;34m(\u001b[0m\u001b[0;34m)\u001b[0m\u001b[0;34m[\u001b[0m\u001b[0;36m0\u001b[0m\u001b[0;34m]\u001b[0m\u001b[0;34m)\u001b[0m\u001b[0;34m&\u001b[0m\u001b[0;34m(\u001b[0m\u001b[0mts\u001b[0m\u001b[0;34m.\u001b[0m\u001b[0mm_date\u001b[0m\u001b[0;34m<=\u001b[0m\u001b[0mts\u001b[0m\u001b[0;34m[\u001b[0m\u001b[0mts\u001b[0m\u001b[0;34m.\u001b[0m\u001b[0mm_date\u001b[0m\u001b[0;34m.\u001b[0m\u001b[0mdt\u001b[0m\u001b[0;34m.\u001b[0m\u001b[0myear\u001b[0m\u001b[0;34m==\u001b[0m\u001b[0my\u001b[0m\u001b[0;34m]\u001b[0m\u001b[0;34m.\u001b[0m\u001b[0mEOS\u001b[0m\u001b[0;34m.\u001b[0m\u001b[0munique\u001b[0m\u001b[0;34m(\u001b[0m\u001b[0;34m)\u001b[0m\u001b[0;34m[\u001b[0m\u001b[0;36m0\u001b[0m\u001b[0;34m]\u001b[0m\u001b[0;34m)\u001b[0m\u001b[0;34m]\u001b[0m\u001b[0;34m[\u001b[0m\u001b[0;34m'ndvi_rel'\u001b[0m\u001b[0;34m]\u001b[0m\u001b[0;34m.\u001b[0m\u001b[0mvalues\u001b[0m\u001b[0;34m)\u001b[0m\u001b[0;34m\u001b[0m\u001b[0m\n\u001b[1;32m     28\u001b[0m         \u001b[0mprint\u001b[0m\u001b[0;34m(\u001b[0m\u001b[0mts\u001b[0m\u001b[0;34m.\u001b[0m\u001b[0mEOS\u001b[0m\u001b[0;34m.\u001b[0m\u001b[0mdt\u001b[0m\u001b[0;34m.\u001b[0m\u001b[0myear\u001b[0m\u001b[0;34m.\u001b[0m\u001b[0munique\u001b[0m\u001b[0;34m(\u001b[0m\u001b[0;34m)\u001b[0m\u001b[0;34m)\u001b[0m\u001b[0;34m\u001b[0m\u001b[0m\n\u001b[0;32m---> 29\u001b[0;31m         \u001b[0;32mif\u001b[0m \u001b[0mts\u001b[0m\u001b[0;34m.\u001b[0m\u001b[0mEOS\u001b[0m\u001b[0;34m.\u001b[0m\u001b[0mdt\u001b[0m\u001b[0;34m.\u001b[0m\u001b[0myear\u001b[0m\u001b[0;34m.\u001b[0m\u001b[0munique\u001b[0m\u001b[0;34m(\u001b[0m\u001b[0;34m)\u001b[0m \u001b[0;34m!=\u001b[0m \u001b[0my\u001b[0m\u001b[0;34m:\u001b[0m\u001b[0;34m\u001b[0m\u001b[0m\n\u001b[0m\u001b[1;32m     30\u001b[0m             \u001b[0mend_days\u001b[0m \u001b[0;34m=\u001b[0m \u001b[0;36m0\u001b[0m\u001b[0;34m+\u001b[0m\u001b[0;36m1\u001b[0m\u001b[0;34m\u001b[0m\u001b[0m\n\u001b[1;32m     31\u001b[0m             \u001b[0mtot_days\u001b[0m \u001b[0;34m=\u001b[0m \u001b[0mnp\u001b[0m\u001b[0;34m.\u001b[0m\u001b[0mconcatenate\u001b[0m\u001b[0;34m(\u001b[0m\u001b[0;34m[\u001b[0m\u001b[0mnp\u001b[0m\u001b[0;34m.\u001b[0m\u001b[0marange\u001b[0m\u001b[0;34m(\u001b[0m\u001b[0mts\u001b[0m\u001b[0;34m.\u001b[0m\u001b[0mm_date\u001b[0m\u001b[0;34m.\u001b[0m\u001b[0mdt\u001b[0m\u001b[0;34m.\u001b[0m\u001b[0mdayofyear\u001b[0m\u001b[0;34m.\u001b[0m\u001b[0mmax\u001b[0m\u001b[0;34m(\u001b[0m\u001b[0;34m)\u001b[0m\u001b[0;34m-\u001b[0m\u001b[0ms_date\u001b[0m\u001b[0;34m+\u001b[0m\u001b[0;36m1\u001b[0m\u001b[0;34m,\u001b[0m\u001b[0mdtype\u001b[0m\u001b[0;34m=\u001b[0m\u001b[0mint\u001b[0m\u001b[0;34m)\u001b[0m\u001b[0;34m+\u001b[0m\u001b[0ms_date\u001b[0m\u001b[0;34m,\u001b[0m\u001b[0mnp\u001b[0m\u001b[0;34m.\u001b[0m\u001b[0marange\u001b[0m\u001b[0;34m(\u001b[0m\u001b[0meos\u001b[0m\u001b[0;34m)\u001b[0m\u001b[0;34m+\u001b[0m\u001b[0;36m1\u001b[0m\u001b[0;34m]\u001b[0m\u001b[0;34m)\u001b[0m\u001b[0;34m\u001b[0m\u001b[0m\n",
      "\u001b[0;31mValueError\u001b[0m: The truth value of an array with more than one element is ambiguous. Use a.any() or a.all()"
     ]
    }
   ],
   "source": [
    "df_f2 = df_interp1.merge(df_past_ndvi,how='left',left_index=True,right_index=True).sort_values(axis=0,by=['past_name_','yr','doy']).sort_values(axis=1,by='pix_id').reset_index()\n",
    "pheno_info = pd.DataFrame(delayed_moving_ave(df_f2.reset_index().set_index('m_date')[0,'pasture_NDVI'].reset_index())).T\n",
    "pheno_info.columns = pd.MultiIndex.from_tuples([(['Pasture','EOS']),(['Pasture','SOS'])])\n",
    "df_f3 = df_f2.merge(pheno_info,how='left',left_on=df_f2.m_date.dt.year,right_on=pheno_info.index)\n",
    "\n",
    "d_t = df_f3.reset_index().set_index('m_date')[[0,'Pasture']]\n",
    "d_t.columns = d_t.columns.droplevel()\n",
    "df_int = int_ndvi(d_t).reset_index()\n",
    "df_int.columns = pd.MultiIndex.from_tuples([(['m_date','']),(['doy','']),(['Pasture','NDVI_I'])])\n",
    "df_f4 = df_f3.merge(df_int,how='left',left_on='m_date',right_on='m_date')"
   ]
  },
  {
   "cell_type": "code",
   "execution_count": 46,
   "metadata": {},
   "outputs": [
    {
     "data": {
      "text/plain": [
       "array(['2004-01-03T00:00:00.000000000'], dtype='datetime64[ns]')"
      ]
     },
     "execution_count": 46,
     "metadata": {},
     "output_type": "execute_result"
    }
   ],
   "source": [
    "d_t[d_t.index.year==2003].EOS.unique()"
   ]
  },
  {
   "cell_type": "code",
   "execution_count": 59,
   "metadata": {},
   "outputs": [
    {
     "data": {
      "text/plain": [
       "m_date\n",
       "2003-01-01   2004-01-03\n",
       "2003-01-02   2004-01-03\n",
       "2003-01-03   2004-01-03\n",
       "2003-01-04   2004-01-03\n",
       "2003-01-05   2004-01-03\n",
       "2003-01-06   2004-01-03\n",
       "2003-01-07   2004-01-03\n",
       "2003-01-08   2004-01-03\n",
       "2003-01-09   2004-01-03\n",
       "2003-01-10   2004-01-03\n",
       "2003-01-11   2004-01-03\n",
       "2003-01-12   2004-01-03\n",
       "2003-01-13   2004-01-03\n",
       "2003-01-14   2004-01-03\n",
       "2003-01-15   2004-01-03\n",
       "2003-01-16   2004-01-03\n",
       "2003-01-17   2004-01-03\n",
       "2003-01-18   2004-01-03\n",
       "2003-01-19   2004-01-03\n",
       "2003-01-20   2004-01-03\n",
       "2003-01-21   2004-01-03\n",
       "2003-01-22   2004-01-03\n",
       "2003-01-23   2004-01-03\n",
       "2003-01-24   2004-01-03\n",
       "2003-01-25   2004-01-03\n",
       "2003-01-26   2004-01-03\n",
       "2003-01-27   2004-01-03\n",
       "2003-01-28   2004-01-03\n",
       "2003-01-29   2004-01-03\n",
       "2003-01-30   2004-01-03\n",
       "                ...    \n",
       "2003-12-05   2004-01-03\n",
       "2003-12-06   2004-01-03\n",
       "2003-12-07   2004-01-03\n",
       "2003-12-08   2004-01-03\n",
       "2003-12-09   2004-01-03\n",
       "2003-12-10   2004-01-03\n",
       "2003-12-11   2004-01-03\n",
       "2003-12-12   2004-01-03\n",
       "2003-12-13   2004-01-03\n",
       "2003-12-14   2004-01-03\n",
       "2003-12-15   2004-01-03\n",
       "2003-12-16   2004-01-03\n",
       "2003-12-17   2004-01-03\n",
       "2003-12-18   2004-01-03\n",
       "2003-12-19   2004-01-03\n",
       "2003-12-20   2004-01-03\n",
       "2003-12-21   2004-01-03\n",
       "2003-12-22   2004-01-03\n",
       "2003-12-23   2004-01-03\n",
       "2003-12-24   2004-01-03\n",
       "2003-12-25   2004-01-03\n",
       "2003-12-26   2004-01-03\n",
       "2003-12-27   2004-01-03\n",
       "2003-12-28   2004-01-03\n",
       "2003-12-29   2004-01-03\n",
       "2003-12-30   2004-01-03\n",
       "2003-12-31   2004-01-03\n",
       "2004-01-01   2005-01-10\n",
       "2004-01-02   2005-01-10\n",
       "2004-01-03   2005-01-10\n",
       "Name: EOS, Length: 368, dtype: datetime64[ns]"
      ]
     },
     "execution_count": 59,
     "metadata": {},
     "output_type": "execute_result"
    }
   ],
   "source": [
    "d_t[(d_t.index>=pd.to_datetime(2003*1000+1,format='%Y%j'))&(d_t.index<=d_t[d_t.index.year==2003].EOS.unique()[0])].EOS"
   ]
  },
  {
   "cell_type": "code",
   "execution_count": 48,
   "metadata": {},
   "outputs": [
    {
     "data": {
      "text/plain": [
       "DatetimeIndex(['2001-01-06', '2001-01-07', '2001-01-08', '2001-01-09',\n",
       "               '2001-01-10', '2001-01-11', '2001-01-12', '2001-01-13',\n",
       "               '2001-01-14', '2001-01-15',\n",
       "               ...\n",
       "               '2018-11-11', '2018-11-12', '2018-11-13', '2018-11-14',\n",
       "               '2018-11-15', '2018-11-16', '2018-11-17', '2018-11-18',\n",
       "               '2018-11-19', '2018-11-20'],\n",
       "              dtype='datetime64[ns]', name='m_date', length=6528, freq=None)"
      ]
     },
     "execution_count": 48,
     "metadata": {},
     "output_type": "execute_result"
    }
   ],
   "source": [
    "d_t.index"
   ]
  },
  {
   "cell_type": "code",
   "execution_count": 2254,
   "metadata": {},
   "outputs": [
    {
     "data": {
      "text/plain": [
       "6490"
      ]
     },
     "execution_count": 2254,
     "metadata": {},
     "output_type": "execute_result"
    }
   ],
   "source": [
    "len(df_f2)"
   ]
  },
  {
   "cell_type": "code",
   "execution_count": 2228,
   "metadata": {},
   "outputs": [],
   "source": [
    "#a = pd.DataFrame({'x':[1,2,3,4,5],'y':[1,2,3,4,5]}).set_index('x')\n",
    "#b = pd.DataFrame({'x':[4,5,6,7,8],'y':[1,2,3,4,5]}).set_index('x')\n",
    "#a.add(b,fill_value=0).add(b,fill_value=0)\n"
   ]
  },
  {
   "cell_type": "code",
   "execution_count": null,
   "metadata": {},
   "outputs": [],
   "source": []
  },
  {
   "cell_type": "code",
   "execution_count": null,
   "metadata": {},
   "outputs": [],
   "source": []
  },
  {
   "cell_type": "code",
   "execution_count": 2239,
   "metadata": {},
   "outputs": [],
   "source": []
  },
  {
   "cell_type": "code",
   "execution_count": 2237,
   "metadata": {},
   "outputs": [
    {
     "data": {
      "image/png": "[encoded data removed]",
      "text/plain": [
       "<Figure size 432x288 with 1 Axes>"
      ]
     },
     "metadata": {
      "needs_background": "light"
     },
     "output_type": "display_data"
    }
   ],
   "source": [
    "for yr in k.reset_index().m_date.dt.year.unique()[1:-1]:\n",
    "    k.reset_index()[k.reset_index().m_date.dt.year==yr].set_index('m_date').ndvi_i.plot()"
   ]
  },
  {
   "cell_type": "code",
   "execution_count": 576,
   "metadata": {},
   "outputs": [],
   "source": [
    "# plt.figure(figsize=(36,8))\n",
    "# #plt.plot(df_test.reset_index().set_index('m_date')[0,'pasture_NDVI'],'b.',alpha=.7)\n",
    "# for k in s.keys():\n",
    "#     if type(k) == int:\n",
    "#         #d_start = pd.to_datetime(k*1000+s[k]['sos'],format='%Y%j')\n",
    "#         d_start = s[k]['sos']\n",
    "#         plt.plot([d_start,d_start],[10,3000],'r')\n",
    "#         if pd.notnull(s[k]['eos']):\n",
    "#             #d_end = pd.to_datetime(k*1000+s[k]['eos'],format='%Y%j')\n",
    "#             d_end = s[k]['eos']\n",
    "#             #plt.plot(pd.to_datetime([k,k],format='%Y'),[0,6000],'r--')\n",
    "#             plt.plot([d_end,d_end],[10,3000],'k--')\n",
    "#             plt.plot(pd.to_datetime([k,k+1],format='%Y'),[s[k]['thresh_l'],s[k]['thresh_l']])\n",
    "#             plt.plot(pd.to_datetime([k,k+1],format='%Y'),[s[k]['thresh_h'],s[k]['thresh_h']])\n",
    "#     if k =='all':\n",
    "#         #plt.plot(s[k]['eos_ts'],'r--')\n",
    "#         #plt.plot(s[k]['sos_ts'],'r--')\n",
    "#         plt.plot(s[k]['sm_ts'],'b-')\n",
    "#         #plt.plot(pd.to_datetime([2000,2018],format='%Y'),[s[k]['thresh'],s[k]['thresh']])\n"
   ]
  },
  {
   "cell_type": "code",
   "execution_count": 79,
   "metadata": {},
   "outputs": [
    {
     "name": "stderr",
     "output_type": "stream",
     "text": [
      "/opt/conda/lib/python3.6/site-packages/scipy/signal/_arraytools.py:45: FutureWarning: Using a non-tuple sequence for multidimensional indexing is deprecated; use `arr[tuple(seq)]` instead of `arr[seq]`. In the future this will be interpreted as an array index, `arr[np.array(seq)]`, which will result either in an error or a different result.\n",
      "  b = a[a_slice]\n"
     ]
    },
    {
     "name": "stdout",
     "output_type": "stream",
     "text": [
      "2001\n",
      "2001-11-12 00:00:00\n",
      "Redoing SOS for year 2001\n",
      "2002\n",
      "2002-12-07 00:00:00\n",
      "Redoing SOS for year 2002\n",
      "2003\n",
      "2003-11-25 00:00:00\n",
      "Redoing SOS for year 2003\n",
      "Redoing EOS for year 2003\n",
      "2004\n",
      "2004-12-07 00:00:00\n",
      "Redoing SOS for year 2004\n",
      "Redoing EOS for year 2004\n",
      "2005\n",
      "2005-11-21 00:00:00\n",
      "Redoing SOS for year 2005\n",
      "2006\n",
      "2007-01-19 00:00:00\n",
      "Redoing SOS for year 2006\n",
      "2007\n",
      "2007-12-21 00:00:00\n",
      "Redoing EOS for year 2007\n",
      "2008\n",
      "2008-12-27 00:00:00\n",
      "Redoing SOS for year 2008\n",
      "Redoing EOS for year 2008\n",
      "2009\n",
      "2009-11-22 00:00:00\n",
      "Redoing SOS for year 2009\n",
      "Redoing EOS for year 2009\n",
      "2010\n",
      "2010-11-05 00:00:00\n",
      "Redoing SOS for year 2010\n",
      "Redoing EOS for year 2010\n",
      "2011\n",
      "2011-11-18 00:00:00\n",
      "Redoing SOS for year 2011\n",
      "Redoing EOS for year 2011\n",
      "2012\n",
      "2012-11-23 00:00:00\n",
      "Redoing SOS for year 2012\n",
      "Redoing EOS for year 2012\n",
      "2013\n",
      "2013-12-27 00:00:00\n",
      "Redoing SOS for year 2013\n",
      "2014-02-24 00:00:00\n",
      "2013-12-27 00:00:00\n",
      "Redoing EOS for year 2013\n",
      "2014\n",
      "2014-11-29 00:00:00\n",
      "Redoing SOS for year 2014\n",
      "Redoing EOS for year 2014\n",
      "2015\n",
      "2016-02-07 00:00:00\n",
      "Redoing SOS for year 2015\n",
      "2016\n",
      "2016-11-16 00:00:00\n",
      "Redoing EOS for year 2016\n",
      "2017\n",
      "2017-12-02 00:00:00\n",
      "Redoing SOS for year 2017\n",
      "Redoing EOS for year 2017\n",
      "2018\n",
      "2018-10-10 00:00:00\n",
      "Redoing SOS for year 2018\n",
      "Redoing EOS for year 2018\n"
     ]
    },
    {
     "data": {
      "image/png": "[encoded data removed]",
      "text/plain": [
       "<Figure size 2592x576 with 1 Axes>"
      ]
     },
     "metadata": {
      "needs_background": "light"
     },
     "output_type": "display_data"
    }
   ],
   "source": [
    "s = delayed_moving_ave(df_test.reset_index().set_index('m_date')[0,'pasture_NDVI'].reset_index(),False)\n",
    "\n",
    "plt.figure(figsize=(36,8))\n",
    "#plt.plot(df_test.reset_index().set_index('m_date')[0,'pasture_NDVI'],'b.',alpha=.7)\n",
    "for k in s.keys():\n",
    "    if type(k) == int:\n",
    "        #d_start = pd.to_datetime(k*1000+s[k]['sos'],format='%Y%j')\n",
    "        d_start = s[k]['sos']\n",
    "        #plt.plot([d_start,d_start],[10,3000],'r')\n",
    "        if pd.notnull(s[k]['eos'][0]):\n",
    "            #d_end = pd.to_datetime(k*1000+s[k]['eos'],format='%Y%j')\n",
    "            d_end = s[k]['eos']\n",
    "            #plt.plot(pd.to_datetime([k,k],format='%Y'),[0,6000],'r--')\n",
    "            if pd.notnull(d_end[0]):\n",
    "                plt.plot([d_end[0],d_end[0]],[10,3000],'k-')\n",
    "            if pd.notnull(d_end[1]):\n",
    "                plt.plot([d_end[1],d_end[1]],[10,3000],'k--')\n",
    "            if pd.notnull(d_start[0]):\n",
    "                plt.plot([d_start[0],d_start[0]],[10,3000],'g-')\n",
    "            if pd.notnull(d_start[1]):\n",
    "                plt.plot([d_start[1],d_start[1]],[10,3000],'g--')\n",
    "            plt.plot(pd.to_datetime([k*1000+1,k*1000+160],format='%Y%j'),[s[k]['thresh_l'],s[k]['thresh_l']])\n",
    "            plt.plot(pd.to_datetime([k*1000+1,k*1000+160],format='%Y%j'),[s[k]['thresh_h'],s[k]['thresh_h']])\n",
    "            plt.plot(pd.to_datetime([k*1000+190,(k+1)*1000+1],format='%Y%j'),[s[k]['thresh_l_inv'],s[k]['thresh_l_inv']])\n",
    "            plt.plot(pd.to_datetime([k*1000+190,(k+1)*1000+1],format='%Y%j'),[s[k]['thresh_h_inv'],s[k]['thresh_h_inv']])\n",
    "    if k =='all':\n",
    "        #plt.plot(s[k]['eos_ts'],'r--')\n",
    "        #plt.plot(s[k]['sos_ts'],'r--')\n",
    "        plt.plot(s[k]['sm_ts'],'b-')\n",
    "        #plt.plot(pd.to_datetime([2000,2018],format='%Y'),[s[k]['thresh'],s[k]['thresh']])\n",
    "plt.xticks(pd.to_datetime(np.linspace(2001,2018,19).astype(int),format='%Y'))\n",
    "plt.grid()\n",
    "#plt.xlim('20130101','20140601')\n",
    "#plt.plot([pd.to_datetime(2011,format='%Y'),pd.to_datetime(2011,format='%Y')],[1481,1481],'m--')\n",
    "#plt.plot([pd.to_datetime(20110403,format='%Y%m%d'),pd.to_datetime(20110403,format='%Y%m%d')],[0,5000],'r--')\n",
    "#plt.plot([pd.to_datetime(20110322,format='%Y%m%d'),pd.to_datetime(20110322,format='%Y%m%d')],[0,5000],'m--')"
   ]
  },
  {
   "cell_type": "code",
   "execution_count": 76,
   "metadata": {},
   "outputs": [
    {
     "data": {
      "text/plain": [
       "{'sos': [Timestamp('2013-04-21 00:00:00'), Timestamp('2013-05-02 00:00:00')],\n",
       " 'eos': [Timestamp('2014-02-24 00:00:00'), nan],\n",
       " 'thresh_l': 1828.8876844723898,\n",
       " 'thresh_h': 2159.9494513925883,\n",
       " 'thresh_l_inv': 2172.552562524188,\n",
       " 'thresh_h_inv': 2503.614329444387}"
      ]
     },
     "execution_count": 76,
     "metadata": {},
     "output_type": "execute_result"
    }
   ],
   "source": [
    "s[2013]"
   ]
  },
  {
   "cell_type": "code",
   "execution_count": null,
   "metadata": {},
   "outputs": [],
   "source": []
  }
 ],
 "metadata": {
  "kernelspec": {
   "display_name": "Python 3 (ipykernel)",
   "language": "python",
   "name": "python3"
  },
  "language_info": {
   "codemirror_mode": {
    "name": "ipython",
    "version": 3
   },
   "file_extension": ".py",
   "mimetype": "text/x-python",
   "name": "python",
   "nbconvert_exporter": "python",
   "pygments_lexer": "ipython3",
   "version": "3.10.5"
  }
 },
 "nbformat": 4,
 "nbformat_minor": 4
}
