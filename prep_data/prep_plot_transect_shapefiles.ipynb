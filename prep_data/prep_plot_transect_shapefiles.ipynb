{
 "cells": [
  {
   "cell_type": "markdown",
   "id": "56c20ff1-fed8-4ac8-b9f9-b861b2fdcc5c",
   "metadata": {},
   "source": [
    "#### Package inputs"
   ]
  },
  {
   "cell_type": "code",
   "execution_count": 8,
   "id": "8aa7577a-364e-40c7-97b9-8467eb63747f",
   "metadata": {},
   "outputs": [],
   "source": [
    "import os\n",
    "import pandas as pd\n",
    "import geopandas as gpd\n",
    "import re\n",
    "import numpy as np\n",
    "from shapely.geometry import Point, LineString, shape, Polygon, MultiPoint"
   ]
  },
  {
   "cell_type": "markdown",
   "id": "155358cd-caa7-4bd6-9d85-e09ff5abaa34",
   "metadata": {},
   "source": [
    "#### Specify parameters"
   ]
  },
  {
   "cell_type": "markdown",
   "id": "6f20d9a9-9722-4308-b844-dbc2806d52c2",
   "metadata": {},
   "source": [
    "##### Specify input paths"
   ]
  },
  {
   "cell_type": "code",
   "execution_count": 9,
   "id": "fde45c5a-4220-4f6b-8f83-5fed7b1acb28",
   "metadata": {},
   "outputs": [],
   "source": [
    "# set working directory to root\n",
    "os.chdir('/mnt/c/Users/Sean.Kearney/git_repos/cper_hls_veg_models')\n",
    "\n",
    "# transects shapefile\n",
    "transects_f = \"/mnt/t/3-GIS/CPER/Layers/Plots_Transects/CPER_VOR_Transects_all_2020_Oct14.shp\""
   ]
  },
  {
   "cell_type": "markdown",
   "id": "b361d9a8-30d6-4b8d-99a9-335a7cabf1bd",
   "metadata": {},
   "source": [
    "##### Specify cleaning parameters"
   ]
  },
  {
   "cell_type": "code",
   "execution_count": 10,
   "id": "5a5398e0-807d-472c-9c2d-d6213f16a095",
   "metadata": {},
   "outputs": [],
   "source": [
    "# create transect pasture renaming dictionary\n",
    "trans_name_dict = {\n",
    "    'NH': '10S',\n",
    "    '7se': '7SE',\n",
    "    '31w': '31W',\n",
    "    '26w': '26W',\n",
    "    '25nw': '25NW',\n",
    "    '17s': '17S',\n",
    "    '18s': '18S',\n",
    "    '19n': '19N',\n",
    "    '21n': '21N',\n",
    "    '22SW': '22W'\n",
    "}"
   ]
  },
  {
   "cell_type": "markdown",
   "id": "0d7f60aa-fb2b-4b2e-a09b-e0d0bd103bed",
   "metadata": {},
   "source": [
    "##### Read in datasets"
   ]
  },
  {
   "cell_type": "code",
   "execution_count": 24,
   "id": "78d5485b-09d6-43f3-908a-224e762d32eb",
   "metadata": {},
   "outputs": [],
   "source": [
    "# read in shapefiles\n",
    "gdf_transects = gpd.read_file(transects_f)"
   ]
  },
  {
   "cell_type": "markdown",
   "id": "41e16858-fc1e-4e99-8403-5833ea5dd8f3",
   "metadata": {},
   "source": [
    "##### Clean up and prepare transects and plots"
   ]
  },
  {
   "cell_type": "code",
   "execution_count": 21,
   "id": "68933cf0-f90b-4c04-ab5d-7c3cfd95883d",
   "metadata": {},
   "outputs": [],
   "source": [
    "# rename transect pasture names to match pasture shapefile\n",
    "gdf_transects['PastureNm'] = gdf_transects['PastureNm'].apply(\n",
    "    lambda x: trans_name_dict[x] if x in trans_name_dict.keys() else x)\n",
    "\n",
    "# remove prefixes for transect names\n",
    "gdf_transects['Transect'] = gdf_transects['Transect'].apply(\n",
    "    lambda x: re.sub(\"P\", \"\", re.sub(\"T\", \"\", str(x))))\n",
    "\n",
    "# create unique transect id's\n",
    "gdf_transects['Id'] = gdf_transects.apply(\n",
    "    lambda x: x['PastureNm'] + \"_\" + x['Plot_Num'] + \"_\" + str(x['Transect']),\n",
    "    axis=1)\n",
    "\n",
    "# create unique plot id's\n",
    "gdf_transects['Id_plot'] = gdf_transects.apply(lambda x: x['PastureNm'] + \"_\" + x['Plot_Num'], axis=1)\n",
    "\n",
    "# create transect geometry from coordinates\n",
    "#gdf_transects['geometry'] = gdf_transects['geometry'].apply(lambda x: x.coords[0])\n",
    "\n",
    "# create plot-scale geodataframe using convex hull and buffer by 15 m\n",
    "gdf_plots = gdf_transects.groupby(['PastureNm', 'Id_plot'])['geometry'].apply(lambda x: MultiPoint(x.tolist()).convex_hull)\n",
    "gdf_plots = gpd.GeoDataFrame(gdf_plots, geometry='geometry', crs=gdf_transects.crs).buffer(15)\n",
    "gdf_plots.name = 'geometry'\n",
    "gdf_plots = gdf_plots.reset_index()\n",
    "\n",
    "# convert transect-scale geodataframe to polygon using convex hull and buffer by 15 m\n",
    "gdf_transects = gdf_transects.groupby(['PastureNm', 'Id'])['geometry'].apply(lambda x: MultiPoint(x.tolist()).convex_hull)\n",
    "gdf_transects = gpd.GeoDataFrame(gdf_transects, geometry='geometry', crs=gdf_plots.crs).buffer(15)\n",
    "gdf_transects.name = 'geometry'\n",
    "gdf_transects = gdf_transects.reset_index()"
   ]
  },
  {
   "cell_type": "markdown",
   "id": "f23b6b88-deb7-4834-aedc-20759cc15479",
   "metadata": {},
   "source": [
    "##### Save transects and plots to disk"
   ]
  },
  {
   "cell_type": "code",
   "execution_count": 27,
   "id": "4b42665c-621b-4d8e-8b99-0813b2419e5f",
   "metadata": {},
   "outputs": [],
   "source": [
    "gdf_transects.to_file(\"./data/ground/boundaries/CPER_VOR_Transects_all_2020_Oct14_clean.shp\")\n",
    "gdf_plots.to_file(\"./data/ground/boundaries/CPER_plots_from_vor_transects.shp\")"
   ]
  },
  {
   "cell_type": "code",
   "execution_count": 26,
   "id": "c349debe-0c30-4706-b3ff-4af35d5865ab",
   "metadata": {},
   "outputs": [
    {
     "data": {
      "text/html": [
       "<div>\n",
       "<style scoped>\n",
       "    .dataframe tbody tr th:only-of-type {\n",
       "        vertical-align: middle;\n",
       "    }\n",
       "\n",
       "    .dataframe tbody tr th {\n",
       "        vertical-align: top;\n",
       "    }\n",
       "\n",
       "    .dataframe thead th {\n",
       "        text-align: right;\n",
       "    }\n",
       "</style>\n",
       "<table border=\"1\" class=\"dataframe\">\n",
       "  <thead>\n",
       "    <tr style=\"text-align: right;\">\n",
       "      <th></th>\n",
       "      <th>PastureNm</th>\n",
       "      <th>Id_plot</th>\n",
       "      <th>geometry</th>\n",
       "    </tr>\n",
       "  </thead>\n",
       "  <tbody>\n",
       "    <tr>\n",
       "      <th>0</th>\n",
       "      <td>10S</td>\n",
       "      <td>10S_P1</td>\n",
       "      <td>POLYGON ((519555.037 4521231.115, 519553.566 4...</td>\n",
       "    </tr>\n",
       "    <tr>\n",
       "      <th>1</th>\n",
       "      <td>10S</td>\n",
       "      <td>10S_P2</td>\n",
       "      <td>POLYGON ((519544.297 4520979.580, 519542.826 4...</td>\n",
       "    </tr>\n",
       "    <tr>\n",
       "      <th>2</th>\n",
       "      <td>10S</td>\n",
       "      <td>10S_P3</td>\n",
       "      <td>POLYGON ((519289.993 4520977.318, 519288.522 4...</td>\n",
       "    </tr>\n",
       "    <tr>\n",
       "      <th>3</th>\n",
       "      <td>10S</td>\n",
       "      <td>10S_P4</td>\n",
       "      <td>POLYGON ((519297.653 4521230.160, 519296.182 4...</td>\n",
       "    </tr>\n",
       "    <tr>\n",
       "      <th>4</th>\n",
       "      <td>15E</td>\n",
       "      <td>15E_P1</td>\n",
       "      <td>POLYGON ((520181.470 4520621.453, 520180.000 4...</td>\n",
       "    </tr>\n",
       "    <tr>\n",
       "      <th>...</th>\n",
       "      <td>...</td>\n",
       "      <td>...</td>\n",
       "      <td>...</td>\n",
       "    </tr>\n",
       "    <tr>\n",
       "      <th>127</th>\n",
       "      <td>8E</td>\n",
       "      <td>8E_P4</td>\n",
       "      <td>POLYGON ((526590.786 4522346.063, 526589.316 4...</td>\n",
       "    </tr>\n",
       "    <tr>\n",
       "      <th>128</th>\n",
       "      <td>CN</td>\n",
       "      <td>CN_P1</td>\n",
       "      <td>POLYGON ((519747.373 4516902.969, 519745.902 4...</td>\n",
       "    </tr>\n",
       "    <tr>\n",
       "      <th>129</th>\n",
       "      <td>CN</td>\n",
       "      <td>CN_P2</td>\n",
       "      <td>POLYGON ((519578.393 4517098.704, 519576.922 4...</td>\n",
       "    </tr>\n",
       "    <tr>\n",
       "      <th>130</th>\n",
       "      <td>CN</td>\n",
       "      <td>CN_P3</td>\n",
       "      <td>POLYGON ((519345.172 4516991.944, 519343.701 4...</td>\n",
       "    </tr>\n",
       "    <tr>\n",
       "      <th>131</th>\n",
       "      <td>CN</td>\n",
       "      <td>CN_P4</td>\n",
       "      <td>POLYGON ((519337.308 4517246.669, 519335.837 4...</td>\n",
       "    </tr>\n",
       "  </tbody>\n",
       "</table>\n",
       "<p>132 rows × 3 columns</p>\n",
       "</div>"
      ],
      "text/plain": [
       "    PastureNm Id_plot                                           geometry\n",
       "0         10S  10S_P1  POLYGON ((519555.037 4521231.115, 519553.566 4...\n",
       "1         10S  10S_P2  POLYGON ((519544.297 4520979.580, 519542.826 4...\n",
       "2         10S  10S_P3  POLYGON ((519289.993 4520977.318, 519288.522 4...\n",
       "3         10S  10S_P4  POLYGON ((519297.653 4521230.160, 519296.182 4...\n",
       "4         15E  15E_P1  POLYGON ((520181.470 4520621.453, 520180.000 4...\n",
       "..        ...     ...                                                ...\n",
       "127        8E   8E_P4  POLYGON ((526590.786 4522346.063, 526589.316 4...\n",
       "128        CN   CN_P1  POLYGON ((519747.373 4516902.969, 519745.902 4...\n",
       "129        CN   CN_P2  POLYGON ((519578.393 4517098.704, 519576.922 4...\n",
       "130        CN   CN_P3  POLYGON ((519345.172 4516991.944, 519343.701 4...\n",
       "131        CN   CN_P4  POLYGON ((519337.308 4517246.669, 519335.837 4...\n",
       "\n",
       "[132 rows x 3 columns]"
      ]
     },
     "execution_count": 26,
     "metadata": {},
     "output_type": "execute_result"
    }
   ],
   "source": [
    "gdf_plots"
   ]
  },
  {
   "cell_type": "code",
   "execution_count": null,
   "id": "001e312b-0698-40fa-a721-9263bf82989c",
   "metadata": {},
   "outputs": [],
   "source": []
  }
 ],
 "metadata": {
  "kernelspec": {
   "display_name": "Python 3 (ipykernel)",
   "language": "python",
   "name": "python3"
  },
  "language_info": {
   "codemirror_mode": {
    "name": "ipython",
    "version": 3
   },
   "file_extension": ".py",
   "mimetype": "text/x-python",
   "name": "python",
   "nbconvert_exporter": "python",
   "pygments_lexer": "ipython3",
   "version": "3.10.5"
  }
 },
 "nbformat": 4,
 "nbformat_minor": 5
}
