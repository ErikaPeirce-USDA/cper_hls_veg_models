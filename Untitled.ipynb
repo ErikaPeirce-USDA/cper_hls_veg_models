{
 "cells": [
  {
   "cell_type": "code",
   "execution_count": 3,
   "id": "e16acd89-8167-420a-a7e6-337d960682e0",
   "metadata": {},
   "outputs": [],
   "source": [
    "par_path = \"cper_hls_veg_models/data/sensors/par/neon_d10_cper_par_cln.csv\"\n",
    "fpar_path = \"cper_hls_veg_models/data/training/iapar/cper_ndvi_plotscale_2014_2022.csv\""
   ]
  },
  {
   "cell_type": "code",
   "execution_count": null,
   "id": "dddfda22-0fd1-4f85-a31d-6a3877a1ada9",
   "metadata": {},
   "outputs": [],
   "source": []
  }
 ],
 "metadata": {
  "kernelspec": {
   "display_name": "Python 3 (ipykernel)",
   "language": "python",
   "name": "python3"
  },
  "language_info": {
   "codemirror_mode": {
    "name": "ipython",
    "version": 3
   },
   "file_extension": ".py",
   "mimetype": "text/x-python",
   "name": "python",
   "nbconvert_exporter": "python",
   "pygments_lexer": "ipython3",
   "version": "3.9.12"
  }
 },
 "nbformat": 4,
 "nbformat_minor": 5
}
